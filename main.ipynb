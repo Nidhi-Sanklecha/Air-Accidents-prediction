{
 "cells": [
  {
   "cell_type": "code",
   "execution_count": 35,
   "metadata": {},
   "outputs": [],
   "source": [
    "#import libraries \n",
    "import numpy as np\n",
    "import pandas as pd\n",
    "import matplotlib.pyplot as plt\n",
    "import seaborn as sns\n",
    "import warnings\n",
    "warnings.filterwarnings('ignore')"
   ]
  },
  {
   "cell_type": "code",
   "execution_count": 36,
   "metadata": {},
   "outputs": [],
   "source": [
    "#import data\n",
    "data=pd.read_csv(\"C://Users//nidhi//Downloads//ICAO_accidents (1).csv\")"
   ]
  },
  {
   "cell_type": "code",
   "execution_count": 37,
   "metadata": {},
   "outputs": [
    {
     "data": {
      "text/html": [
       "<div>\n",
       "<style scoped>\n",
       "    .dataframe tbody tr th:only-of-type {\n",
       "        vertical-align: middle;\n",
       "    }\n",
       "\n",
       "    .dataframe tbody tr th {\n",
       "        vertical-align: top;\n",
       "    }\n",
       "\n",
       "    .dataframe thead th {\n",
       "        text-align: right;\n",
       "    }\n",
       "</style>\n",
       "<table border=\"1\" class=\"dataframe\">\n",
       "  <thead>\n",
       "    <tr style=\"text-align: right;\">\n",
       "      <th></th>\n",
       "      <th>Unnamed: 0</th>\n",
       "      <th>Date</th>\n",
       "      <th>StateOfOccurrence</th>\n",
       "      <th>Location</th>\n",
       "      <th>Model</th>\n",
       "      <th>Registration</th>\n",
       "      <th>Operator</th>\n",
       "      <th>StateOfOperator</th>\n",
       "      <th>StateOfRegistry</th>\n",
       "      <th>FlightPhase</th>\n",
       "      <th>...</th>\n",
       "      <th>InjuryLevel</th>\n",
       "      <th>TypeDesignator</th>\n",
       "      <th>Helicopter</th>\n",
       "      <th>Airplane</th>\n",
       "      <th>Engines</th>\n",
       "      <th>EngineType</th>\n",
       "      <th>Official</th>\n",
       "      <th>OccCats</th>\n",
       "      <th>Risk</th>\n",
       "      <th>Year</th>\n",
       "    </tr>\n",
       "  </thead>\n",
       "  <tbody>\n",
       "    <tr>\n",
       "      <th>0</th>\n",
       "      <td>0.0</td>\n",
       "      <td>\"2008-01-02T00:00:00.000Z\"</td>\n",
       "      <td>PHL</td>\n",
       "      <td>Masbate Airport (MBT)</td>\n",
       "      <td>NAMC YS11 A</td>\n",
       "      <td>RP-C3592</td>\n",
       "      <td>Philippines Asian Spirit</td>\n",
       "      <td>PHL</td>\n",
       "      <td>PHL</td>\n",
       "      <td>Landing</td>\n",
       "      <td>...</td>\n",
       "      <td>None</td>\n",
       "      <td>YS11</td>\n",
       "      <td>NaN</td>\n",
       "      <td>True</td>\n",
       "      <td>2.0</td>\n",
       "      <td>Turboprop</td>\n",
       "      <td>True</td>\n",
       "      <td>[\"RE\"]</td>\n",
       "      <td>RS</td>\n",
       "      <td>2008</td>\n",
       "    </tr>\n",
       "    <tr>\n",
       "      <th>1</th>\n",
       "      <td>1.0</td>\n",
       "      <td>\"2008-01-02T00:00:00.000Z\"</td>\n",
       "      <td>IRN</td>\n",
       "      <td>Tehran-Mehrabad Airport (THR)</td>\n",
       "      <td>FOKKER F27 100</td>\n",
       "      <td>EP-IDB</td>\n",
       "      <td>Iran, Islamic Republic Of Iran National Airlin...</td>\n",
       "      <td>IRN</td>\n",
       "      <td>IRN</td>\n",
       "      <td>Take-off</td>\n",
       "      <td>...</td>\n",
       "      <td>None</td>\n",
       "      <td>F27</td>\n",
       "      <td>NaN</td>\n",
       "      <td>True</td>\n",
       "      <td>2.0</td>\n",
       "      <td>Turboprop</td>\n",
       "      <td>True</td>\n",
       "      <td>[\"F-POST\",\"ICE\"]</td>\n",
       "      <td>OTH</td>\n",
       "      <td>2008</td>\n",
       "    </tr>\n",
       "    <tr>\n",
       "      <th>2</th>\n",
       "      <td>2.0</td>\n",
       "      <td>\"2008-01-03T00:00:00.000Z\"</td>\n",
       "      <td>USA</td>\n",
       "      <td>Oklahoma City</td>\n",
       "      <td>PILATUS PC12</td>\n",
       "      <td>N398J</td>\n",
       "      <td>NaN</td>\n",
       "      <td>NaN</td>\n",
       "      <td>USA</td>\n",
       "      <td>Standing</td>\n",
       "      <td>...</td>\n",
       "      <td>Fatal</td>\n",
       "      <td>PC12</td>\n",
       "      <td>False</td>\n",
       "      <td>True</td>\n",
       "      <td>1.0</td>\n",
       "      <td>Turboprop</td>\n",
       "      <td>NaN</td>\n",
       "      <td>[\"RAMP\"]</td>\n",
       "      <td>RS</td>\n",
       "      <td>2008</td>\n",
       "    </tr>\n",
       "    <tr>\n",
       "      <th>3</th>\n",
       "      <td>3.0</td>\n",
       "      <td>\"2008-01-04T00:00:00.000Z\"</td>\n",
       "      <td>VEN</td>\n",
       "      <td>A 20 NM del VOR del Gran Roque</td>\n",
       "      <td>LET L410 UVP</td>\n",
       "      <td>YV2081</td>\n",
       "      <td>Venezuela</td>\n",
       "      <td>VEN</td>\n",
       "      <td>VEN</td>\n",
       "      <td>En route</td>\n",
       "      <td>...</td>\n",
       "      <td>Fatal</td>\n",
       "      <td>L410</td>\n",
       "      <td>NaN</td>\n",
       "      <td>True</td>\n",
       "      <td>2.0</td>\n",
       "      <td>Turboprop</td>\n",
       "      <td>True</td>\n",
       "      <td>[\"SCF-PP\"]</td>\n",
       "      <td>SCF</td>\n",
       "      <td>2008</td>\n",
       "    </tr>\n",
       "    <tr>\n",
       "      <th>4</th>\n",
       "      <td>4.0</td>\n",
       "      <td>\"2008-01-05T00:00:00.000Z\"</td>\n",
       "      <td>USA</td>\n",
       "      <td>Kodiak</td>\n",
       "      <td>PIPER PA31P 350</td>\n",
       "      <td>N509FN</td>\n",
       "      <td>NaN</td>\n",
       "      <td>NaN</td>\n",
       "      <td>USA</td>\n",
       "      <td>Take-off</td>\n",
       "      <td>...</td>\n",
       "      <td>Fatal</td>\n",
       "      <td>PA47</td>\n",
       "      <td>False</td>\n",
       "      <td>True</td>\n",
       "      <td>1.0</td>\n",
       "      <td>Jet</td>\n",
       "      <td>NaN</td>\n",
       "      <td>[\"LOC-I\",\"SCF-NP\"]</td>\n",
       "      <td>LOC-I</td>\n",
       "      <td>2008</td>\n",
       "    </tr>\n",
       "  </tbody>\n",
       "</table>\n",
       "<p>5 rows × 25 columns</p>\n",
       "</div>"
      ],
      "text/plain": [
       "   Unnamed: 0                        Date StateOfOccurrence  \\\n",
       "0         0.0  \"2008-01-02T00:00:00.000Z\"               PHL   \n",
       "1         1.0  \"2008-01-02T00:00:00.000Z\"               IRN   \n",
       "2         2.0  \"2008-01-03T00:00:00.000Z\"               USA   \n",
       "3         3.0  \"2008-01-04T00:00:00.000Z\"               VEN   \n",
       "4         4.0  \"2008-01-05T00:00:00.000Z\"               USA   \n",
       "\n",
       "                         Location            Model Registration  \\\n",
       "0           Masbate Airport (MBT)      NAMC YS11 A     RP-C3592   \n",
       "1   Tehran-Mehrabad Airport (THR)   FOKKER F27 100       EP-IDB   \n",
       "2                   Oklahoma City     PILATUS PC12        N398J   \n",
       "3  A 20 NM del VOR del Gran Roque     LET L410 UVP       YV2081   \n",
       "4                          Kodiak  PIPER PA31P 350       N509FN   \n",
       "\n",
       "                                            Operator StateOfOperator  \\\n",
       "0                           Philippines Asian Spirit             PHL   \n",
       "1  Iran, Islamic Republic Of Iran National Airlin...             IRN   \n",
       "2                                                NaN             NaN   \n",
       "3                                         Venezuela              VEN   \n",
       "4                                                NaN             NaN   \n",
       "\n",
       "  StateOfRegistry FlightPhase  ... InjuryLevel  TypeDesignator Helicopter  \\\n",
       "0             PHL     Landing  ...        None            YS11        NaN   \n",
       "1             IRN    Take-off  ...        None             F27        NaN   \n",
       "2             USA    Standing  ...       Fatal            PC12      False   \n",
       "3             VEN    En route  ...       Fatal            L410        NaN   \n",
       "4             USA    Take-off  ...       Fatal            PA47      False   \n",
       "\n",
       "  Airplane Engines EngineType Official             OccCats   Risk  Year  \n",
       "0     True     2.0  Turboprop     True              [\"RE\"]     RS  2008  \n",
       "1     True     2.0  Turboprop     True    [\"F-POST\",\"ICE\"]    OTH  2008  \n",
       "2     True     1.0  Turboprop      NaN            [\"RAMP\"]     RS  2008  \n",
       "3     True     2.0  Turboprop     True          [\"SCF-PP\"]    SCF  2008  \n",
       "4     True     1.0        Jet      NaN  [\"LOC-I\",\"SCF-NP\"]  LOC-I  2008  \n",
       "\n",
       "[5 rows x 25 columns]"
      ]
     },
     "execution_count": 37,
     "metadata": {},
     "output_type": "execute_result"
    }
   ],
   "source": [
    "data.head()"
   ]
  },
  {
   "cell_type": "code",
   "execution_count": 38,
   "metadata": {},
   "outputs": [
    {
     "data": {
      "text/html": [
       "<div>\n",
       "<style scoped>\n",
       "    .dataframe tbody tr th:only-of-type {\n",
       "        vertical-align: middle;\n",
       "    }\n",
       "\n",
       "    .dataframe tbody tr th {\n",
       "        vertical-align: top;\n",
       "    }\n",
       "\n",
       "    .dataframe thead th {\n",
       "        text-align: right;\n",
       "    }\n",
       "</style>\n",
       "<table border=\"1\" class=\"dataframe\">\n",
       "  <thead>\n",
       "    <tr style=\"text-align: right;\">\n",
       "      <th></th>\n",
       "      <th>Unnamed: 0</th>\n",
       "      <th>Date</th>\n",
       "      <th>StateOfOccurrence</th>\n",
       "      <th>Location</th>\n",
       "      <th>Model</th>\n",
       "      <th>Registration</th>\n",
       "      <th>Operator</th>\n",
       "      <th>StateOfOperator</th>\n",
       "      <th>StateOfRegistry</th>\n",
       "      <th>FlightPhase</th>\n",
       "      <th>...</th>\n",
       "      <th>InjuryLevel</th>\n",
       "      <th>TypeDesignator</th>\n",
       "      <th>Helicopter</th>\n",
       "      <th>Airplane</th>\n",
       "      <th>Engines</th>\n",
       "      <th>EngineType</th>\n",
       "      <th>Official</th>\n",
       "      <th>OccCats</th>\n",
       "      <th>Risk</th>\n",
       "      <th>Year</th>\n",
       "    </tr>\n",
       "  </thead>\n",
       "  <tbody>\n",
       "    <tr>\n",
       "      <th>6105</th>\n",
       "      <td>40.0</td>\n",
       "      <td>\"2022-05-06T00:00:00.000Z\"</td>\n",
       "      <td>CHL</td>\n",
       "      <td>Santiago-Arturo Merino Benitez Airport (SCL)</td>\n",
       "      <td>Beechcraft 200 Super King Air</td>\n",
       "      <td>CC-CDY</td>\n",
       "      <td>NaN</td>\n",
       "      <td>NaN</td>\n",
       "      <td>CHL</td>\n",
       "      <td>Landing</td>\n",
       "      <td>...</td>\n",
       "      <td>NaN</td>\n",
       "      <td>BE20</td>\n",
       "      <td>False</td>\n",
       "      <td>True</td>\n",
       "      <td>2.0</td>\n",
       "      <td>Turboprop</td>\n",
       "      <td>NaN</td>\n",
       "      <td>[]</td>\n",
       "      <td>RS</td>\n",
       "      <td>2022</td>\n",
       "    </tr>\n",
       "    <tr>\n",
       "      <th>6106</th>\n",
       "      <td>41.0</td>\n",
       "      <td>\"2022-05-11T00:00:00.000Z\"</td>\n",
       "      <td>BRA</td>\n",
       "      <td>Boituva, SP</td>\n",
       "      <td>Cessna 208 Caravan I</td>\n",
       "      <td>PT-OQR</td>\n",
       "      <td>Skydive4Fun, opf. LBK Servi�o A�reo Especializado</td>\n",
       "      <td>NaN</td>\n",
       "      <td>BRA</td>\n",
       "      <td>Initial Climb</td>\n",
       "      <td>...</td>\n",
       "      <td>Fatal</td>\n",
       "      <td>C208</td>\n",
       "      <td>False</td>\n",
       "      <td>True</td>\n",
       "      <td>1.0</td>\n",
       "      <td>Turboprop</td>\n",
       "      <td>NaN</td>\n",
       "      <td>[]</td>\n",
       "      <td>UNK</td>\n",
       "      <td>2022</td>\n",
       "    </tr>\n",
       "    <tr>\n",
       "      <th>6107</th>\n",
       "      <td>42.0</td>\n",
       "      <td>\"2022-05-11T00:00:00.000Z\"</td>\n",
       "      <td>CMR</td>\n",
       "      <td>near Nanga Eboko</td>\n",
       "      <td>Viking DHC-6 Twin Otter 400</td>\n",
       "      <td>TJ-TIM</td>\n",
       "      <td>Caverton Helicopters</td>\n",
       "      <td>NaN</td>\n",
       "      <td>CMR</td>\n",
       "      <td>En route</td>\n",
       "      <td>...</td>\n",
       "      <td>Fatal</td>\n",
       "      <td>DHC6</td>\n",
       "      <td>False</td>\n",
       "      <td>True</td>\n",
       "      <td>2.0</td>\n",
       "      <td>Turboprop</td>\n",
       "      <td>NaN</td>\n",
       "      <td>[]</td>\n",
       "      <td>LOC-I</td>\n",
       "      <td>2022</td>\n",
       "    </tr>\n",
       "    <tr>\n",
       "      <th>6108</th>\n",
       "      <td>43.0</td>\n",
       "      <td>\"2022-05-12T00:00:00.000Z\"</td>\n",
       "      <td>CHN</td>\n",
       "      <td>Chongqing-Jiangbei International Airport (CKG)</td>\n",
       "      <td>Airbus A319-115 (WL)</td>\n",
       "      <td>B-6425</td>\n",
       "      <td>Tibet Airlines</td>\n",
       "      <td>CHN</td>\n",
       "      <td>CHN</td>\n",
       "      <td>Take-off</td>\n",
       "      <td>...</td>\n",
       "      <td>NaN</td>\n",
       "      <td>A319</td>\n",
       "      <td>False</td>\n",
       "      <td>True</td>\n",
       "      <td>2.0</td>\n",
       "      <td>Jet</td>\n",
       "      <td>NaN</td>\n",
       "      <td>[]</td>\n",
       "      <td>RS</td>\n",
       "      <td>2022</td>\n",
       "    </tr>\n",
       "    <tr>\n",
       "      <th>6109</th>\n",
       "      <td>NaN</td>\n",
       "      <td>NaN</td>\n",
       "      <td>NaN</td>\n",
       "      <td>NaN</td>\n",
       "      <td>NaN</td>\n",
       "      <td>NaN</td>\n",
       "      <td>NaN</td>\n",
       "      <td>NaN</td>\n",
       "      <td>NaN</td>\n",
       "      <td>NaN</td>\n",
       "      <td>...</td>\n",
       "      <td>NaN</td>\n",
       "      <td>NaN</td>\n",
       "      <td>NaN</td>\n",
       "      <td>NaN</td>\n",
       "      <td>NaN</td>\n",
       "      <td>NaN</td>\n",
       "      <td>NaN</td>\n",
       "      <td>NaN</td>\n",
       "      <td>NaN</td>\n",
       "      <td>2008</td>\n",
       "    </tr>\n",
       "  </tbody>\n",
       "</table>\n",
       "<p>5 rows × 25 columns</p>\n",
       "</div>"
      ],
      "text/plain": [
       "      Unnamed: 0                        Date StateOfOccurrence  \\\n",
       "6105        40.0  \"2022-05-06T00:00:00.000Z\"               CHL   \n",
       "6106        41.0  \"2022-05-11T00:00:00.000Z\"               BRA   \n",
       "6107        42.0  \"2022-05-11T00:00:00.000Z\"               CMR   \n",
       "6108        43.0  \"2022-05-12T00:00:00.000Z\"               CHN   \n",
       "6109         NaN                         NaN               NaN   \n",
       "\n",
       "                                             Location  \\\n",
       "6105     Santiago-Arturo Merino Benitez Airport (SCL)   \n",
       "6106                                      Boituva, SP   \n",
       "6107                                 near Nanga Eboko   \n",
       "6108   Chongqing-Jiangbei International Airport (CKG)   \n",
       "6109                                              NaN   \n",
       "\n",
       "                              Model Registration  \\\n",
       "6105  Beechcraft 200 Super King Air       CC-CDY   \n",
       "6106           Cessna 208 Caravan I       PT-OQR   \n",
       "6107    Viking DHC-6 Twin Otter 400       TJ-TIM   \n",
       "6108           Airbus A319-115 (WL)       B-6425   \n",
       "6109                            NaN          NaN   \n",
       "\n",
       "                                               Operator StateOfOperator  \\\n",
       "6105                                                NaN             NaN   \n",
       "6106  Skydive4Fun, opf. LBK Servi�o A�reo Especializado             NaN   \n",
       "6107                               Caverton Helicopters             NaN   \n",
       "6108                                     Tibet Airlines             CHN   \n",
       "6109                                                NaN             NaN   \n",
       "\n",
       "     StateOfRegistry    FlightPhase  ... InjuryLevel  TypeDesignator  \\\n",
       "6105             CHL        Landing  ...         NaN            BE20   \n",
       "6106             BRA  Initial Climb  ...       Fatal            C208   \n",
       "6107             CMR       En route  ...       Fatal            DHC6   \n",
       "6108             CHN       Take-off  ...         NaN            A319   \n",
       "6109             NaN            NaN  ...         NaN             NaN   \n",
       "\n",
       "     Helicopter Airplane Engines EngineType Official OccCats   Risk  Year  \n",
       "6105      False     True     2.0  Turboprop      NaN      []     RS  2022  \n",
       "6106      False     True     1.0  Turboprop      NaN      []    UNK  2022  \n",
       "6107      False     True     2.0  Turboprop      NaN      []  LOC-I  2022  \n",
       "6108      False     True     2.0        Jet      NaN      []     RS  2022  \n",
       "6109        NaN      NaN     NaN        NaN      NaN     NaN    NaN  2008  \n",
       "\n",
       "[5 rows x 25 columns]"
      ]
     },
     "execution_count": 38,
     "metadata": {},
     "output_type": "execute_result"
    }
   ],
   "source": [
    "data.tail()"
   ]
  },
  {
   "cell_type": "code",
   "execution_count": 39,
   "metadata": {},
   "outputs": [
    {
     "data": {
      "text/plain": [
       "(6110, 25)"
      ]
     },
     "execution_count": 39,
     "metadata": {},
     "output_type": "execute_result"
    }
   ],
   "source": [
    "data.shape"
   ]
  },
  {
   "cell_type": "code",
   "execution_count": 40,
   "metadata": {},
   "outputs": [
    {
     "data": {
      "text/plain": [
       "Index(['Unnamed: 0', 'Date', 'StateOfOccurrence', 'Location', 'Model',\n",
       "       'Registration', 'Operator', 'StateOfOperator', 'StateOfRegistry',\n",
       "       'FlightPhase', 'Class', 'Fatalities', 'Over2250', 'Over5700',\n",
       "       'ScheduledCommercial', 'InjuryLevel', 'TypeDesignator', 'Helicopter',\n",
       "       'Airplane', 'Engines', 'EngineType', 'Official', 'OccCats', 'Risk',\n",
       "       'Year'],\n",
       "      dtype='object')"
      ]
     },
     "execution_count": 40,
     "metadata": {},
     "output_type": "execute_result"
    }
   ],
   "source": [
    "data.columns"
   ]
  },
  {
   "cell_type": "code",
   "execution_count": 41,
   "metadata": {},
   "outputs": [
    {
     "data": {
      "text/plain": [
       "0       False\n",
       "1       False\n",
       "2       False\n",
       "3       False\n",
       "4       False\n",
       "        ...  \n",
       "6105    False\n",
       "6106    False\n",
       "6107    False\n",
       "6108    False\n",
       "6109    False\n",
       "Length: 6110, dtype: bool"
      ]
     },
     "execution_count": 41,
     "metadata": {},
     "output_type": "execute_result"
    }
   ],
   "source": [
    "#check data duplicate\n",
    "data.duplicated()"
   ]
  },
  {
   "cell_type": "code",
   "execution_count": 42,
   "metadata": {},
   "outputs": [
    {
     "data": {
      "text/plain": [
       "0"
      ]
     },
     "execution_count": 42,
     "metadata": {},
     "output_type": "execute_result"
    }
   ],
   "source": [
    "data.duplicated().sum()"
   ]
  },
  {
   "cell_type": "code",
   "execution_count": 43,
   "metadata": {},
   "outputs": [
    {
     "data": {
      "text/plain": [
       "Unnamed: 0                1\n",
       "Date                      1\n",
       "StateOfOccurrence       803\n",
       "Location                352\n",
       "Model                   244\n",
       "Registration              1\n",
       "Operator               1926\n",
       "StateOfOperator        4719\n",
       "StateOfRegistry           3\n",
       "FlightPhase             935\n",
       "Class                     1\n",
       "Fatalities             1142\n",
       "Over2250                  1\n",
       "Over5700                 25\n",
       "ScheduledCommercial    2833\n",
       "InjuryLevel            1956\n",
       "TypeDesignator            1\n",
       "Helicopter             1229\n",
       "Airplane                  1\n",
       "Engines                   1\n",
       "EngineType                1\n",
       "Official               4766\n",
       "OccCats                   1\n",
       "Risk                    751\n",
       "Year                      0\n",
       "dtype: int64"
      ]
     },
     "execution_count": 43,
     "metadata": {},
     "output_type": "execute_result"
    }
   ],
   "source": [
    "data.isnull().sum()"
   ]
  },
  {
   "cell_type": "markdown",
   "metadata": {},
   "source": [
    "Check info"
   ]
  },
  {
   "cell_type": "code",
   "execution_count": 44,
   "metadata": {},
   "outputs": [
    {
     "name": "stdout",
     "output_type": "stream",
     "text": [
      "<class 'pandas.core.frame.DataFrame'>\n",
      "RangeIndex: 6110 entries, 0 to 6109\n",
      "Data columns (total 25 columns):\n",
      " #   Column               Non-Null Count  Dtype  \n",
      "---  ------               --------------  -----  \n",
      " 0   Unnamed: 0           6109 non-null   float64\n",
      " 1   Date                 6109 non-null   object \n",
      " 2   StateOfOccurrence    5307 non-null   object \n",
      " 3   Location             5758 non-null   object \n",
      " 4   Model                5866 non-null   object \n",
      " 5   Registration         6109 non-null   object \n",
      " 6   Operator             4184 non-null   object \n",
      " 7   StateOfOperator      1391 non-null   object \n",
      " 8   StateOfRegistry      6107 non-null   object \n",
      " 9   FlightPhase          5175 non-null   object \n",
      " 10  Class                6109 non-null   object \n",
      " 11  Fatalities           4968 non-null   float64\n",
      " 12  Over2250             6109 non-null   object \n",
      " 13  Over5700             6085 non-null   object \n",
      " 14  ScheduledCommercial  3277 non-null   object \n",
      " 15  InjuryLevel          4154 non-null   object \n",
      " 16  TypeDesignator       6109 non-null   object \n",
      " 17  Helicopter           4881 non-null   object \n",
      " 18  Airplane             6109 non-null   object \n",
      " 19  Engines              6109 non-null   float64\n",
      " 20  EngineType           6109 non-null   object \n",
      " 21  Official             1344 non-null   object \n",
      " 22  OccCats              6109 non-null   object \n",
      " 23  Risk                 5359 non-null   object \n",
      " 24  Year                 6110 non-null   int64  \n",
      "dtypes: float64(3), int64(1), object(21)\n",
      "memory usage: 1.2+ MB\n"
     ]
    }
   ],
   "source": [
    "\n",
    "data.info()"
   ]
  },
  {
   "cell_type": "code",
   "execution_count": 45,
   "metadata": {},
   "outputs": [
    {
     "data": {
      "text/html": [
       "<div>\n",
       "<style scoped>\n",
       "    .dataframe tbody tr th:only-of-type {\n",
       "        vertical-align: middle;\n",
       "    }\n",
       "\n",
       "    .dataframe tbody tr th {\n",
       "        vertical-align: top;\n",
       "    }\n",
       "\n",
       "    .dataframe thead th {\n",
       "        text-align: right;\n",
       "    }\n",
       "</style>\n",
       "<table border=\"1\" class=\"dataframe\">\n",
       "  <thead>\n",
       "    <tr style=\"text-align: right;\">\n",
       "      <th></th>\n",
       "      <th>Unnamed: 0</th>\n",
       "      <th>Fatalities</th>\n",
       "      <th>Engines</th>\n",
       "      <th>Year</th>\n",
       "    </tr>\n",
       "  </thead>\n",
       "  <tbody>\n",
       "    <tr>\n",
       "      <th>count</th>\n",
       "      <td>6109.000000</td>\n",
       "      <td>4968.000000</td>\n",
       "      <td>6109.000000</td>\n",
       "      <td>6110.000000</td>\n",
       "    </tr>\n",
       "    <tr>\n",
       "      <th>mean</th>\n",
       "      <td>268.898183</td>\n",
       "      <td>2.037641</td>\n",
       "      <td>1.754624</td>\n",
       "      <td>2012.992799</td>\n",
       "    </tr>\n",
       "    <tr>\n",
       "      <th>std</th>\n",
       "      <td>210.107085</td>\n",
       "      <td>12.957411</td>\n",
       "      <td>0.685855</td>\n",
       "      <td>3.918712</td>\n",
       "    </tr>\n",
       "    <tr>\n",
       "      <th>min</th>\n",
       "      <td>0.000000</td>\n",
       "      <td>0.000000</td>\n",
       "      <td>1.000000</td>\n",
       "      <td>2008.000000</td>\n",
       "    </tr>\n",
       "    <tr>\n",
       "      <th>25%</th>\n",
       "      <td>105.000000</td>\n",
       "      <td>0.000000</td>\n",
       "      <td>1.000000</td>\n",
       "      <td>2010.000000</td>\n",
       "    </tr>\n",
       "    <tr>\n",
       "      <th>50%</th>\n",
       "      <td>221.000000</td>\n",
       "      <td>0.000000</td>\n",
       "      <td>2.000000</td>\n",
       "      <td>2012.000000</td>\n",
       "    </tr>\n",
       "    <tr>\n",
       "      <th>75%</th>\n",
       "      <td>376.000000</td>\n",
       "      <td>0.000000</td>\n",
       "      <td>2.000000</td>\n",
       "      <td>2016.000000</td>\n",
       "    </tr>\n",
       "    <tr>\n",
       "      <th>max</th>\n",
       "      <td>931.000000</td>\n",
       "      <td>298.000000</td>\n",
       "      <td>6.000000</td>\n",
       "      <td>2022.000000</td>\n",
       "    </tr>\n",
       "  </tbody>\n",
       "</table>\n",
       "</div>"
      ],
      "text/plain": [
       "        Unnamed: 0   Fatalities      Engines         Year\n",
       "count  6109.000000  4968.000000  6109.000000  6110.000000\n",
       "mean    268.898183     2.037641     1.754624  2012.992799\n",
       "std     210.107085    12.957411     0.685855     3.918712\n",
       "min       0.000000     0.000000     1.000000  2008.000000\n",
       "25%     105.000000     0.000000     1.000000  2010.000000\n",
       "50%     221.000000     0.000000     2.000000  2012.000000\n",
       "75%     376.000000     0.000000     2.000000  2016.000000\n",
       "max     931.000000   298.000000     6.000000  2022.000000"
      ]
     },
     "execution_count": 45,
     "metadata": {},
     "output_type": "execute_result"
    }
   ],
   "source": [
    "data.describe()"
   ]
  },
  {
   "cell_type": "code",
   "execution_count": 46,
   "metadata": {},
   "outputs": [],
   "source": [
    "data=data[(data['ScheduledCommercial']==True)& (data['Airplane']==True)&(data['EngineType']!='Piston')]"
   ]
  },
  {
   "cell_type": "code",
   "execution_count": 47,
   "metadata": {},
   "outputs": [],
   "source": [
    "#Drop useless columns \n",
    "data=data.drop(columns=['Unnamed: 0','Date','StateOfOccurrence','Location','Model','Registration','Operator','StateOfOperator','StateOfRegistry','Over2250','Over5700','Class','ScheduledCommercial','TypeDesignator','Helicopter','Airplane','Engines','EngineType','Official','OccCats'])"
   ]
  },
  {
   "cell_type": "code",
   "execution_count": 48,
   "metadata": {},
   "outputs": [
    {
     "data": {
      "text/plain": [
       "FlightPhase     9\n",
       "Fatalities     68\n",
       "InjuryLevel     5\n",
       "Risk           47\n",
       "Year           15\n",
       "dtype: int64"
      ]
     },
     "execution_count": 48,
     "metadata": {},
     "output_type": "execute_result"
    }
   ],
   "source": [
    "# gives number of unique values each column\n",
    "data.nunique()"
   ]
  },
  {
   "cell_type": "code",
   "execution_count": 49,
   "metadata": {},
   "outputs": [
    {
     "data": {
      "text/plain": [
       "array([2008, 2009, 2010, 2011, 2012, 2013, 2014, 2015, 2016, 2017, 2018,\n",
       "       2019, 2020, 2021, 2022], dtype=int64)"
      ]
     },
     "execution_count": 49,
     "metadata": {},
     "output_type": "execute_result"
    }
   ],
   "source": [
    "data['Year'].unique()"
   ]
  },
  {
   "cell_type": "code",
   "execution_count": 50,
   "metadata": {},
   "outputs": [
    {
     "data": {
      "text/plain": [
       "2010    164\n",
       "2008    148\n",
       "2011    132\n",
       "2009    118\n",
       "2014    118\n",
       "2013    117\n",
       "2019    116\n",
       "2018    115\n",
       "2015    100\n",
       "2016     96\n",
       "2017     96\n",
       "2012     82\n",
       "2020     77\n",
       "2021     17\n",
       "2022     11\n",
       "Name: Year, dtype: int64"
      ]
     },
     "execution_count": 50,
     "metadata": {},
     "output_type": "execute_result"
    }
   ],
   "source": [
    "data['Year'].value_counts()"
   ]
  },
  {
   "cell_type": "code",
   "execution_count": 51,
   "metadata": {},
   "outputs": [
    {
     "name": "stdout",
     "output_type": "stream",
     "text": [
      "Using matplotlib backend: TkAgg\n",
      "%pylab is deprecated, use %matplotlib inline and import the required libraries.\n",
      "Populating the interactive namespace from numpy and matplotlib\n"
     ]
    }
   ],
   "source": [
    "%pylab\n",
    "plt.figure(figsize(15,6))\n",
    "sns.countplot(x='Year' , data=data, palette='hls')\n",
    "plt.xticks(rotation = 90)\n",
    "plt.show()\n"
   ]
  },
  {
   "cell_type": "code",
   "execution_count": 52,
   "metadata": {},
   "outputs": [
    {
     "data": {
      "text/plain": [
       "array(['None', 'Fatal', 'Serious', 'Minor', 'Unknown', nan], dtype=object)"
      ]
     },
     "execution_count": 52,
     "metadata": {},
     "output_type": "execute_result"
    }
   ],
   "source": [
    "data['InjuryLevel'].unique()"
   ]
  },
  {
   "cell_type": "code",
   "execution_count": 53,
   "metadata": {},
   "outputs": [
    {
     "data": {
      "text/plain": [
       "None       469\n",
       "Serious    198\n",
       "Fatal      168\n",
       "Minor       62\n",
       "Unknown     59\n",
       "Name: InjuryLevel, dtype: int64"
      ]
     },
     "execution_count": 53,
     "metadata": {},
     "output_type": "execute_result"
    }
   ],
   "source": [
    "data['InjuryLevel'].value_counts()"
   ]
  },
  {
   "cell_type": "code",
   "execution_count": 54,
   "metadata": {},
   "outputs": [
    {
     "name": "stdout",
     "output_type": "stream",
     "text": [
      "Using matplotlib backend: TkAgg\n",
      "%pylab is deprecated, use %matplotlib inline and import the required libraries.\n",
      "Populating the interactive namespace from numpy and matplotlib\n"
     ]
    }
   ],
   "source": [
    "%pylab\n",
    "plt.figure(figsize(15,6))\n",
    "sns.countplot(x='InjuryLevel' , data=data, palette='hls')\n",
    "plt.xticks(rotation = 90)\n",
    "plt.show()"
   ]
  },
  {
   "cell_type": "code",
   "execution_count": 55,
   "metadata": {},
   "outputs": [
    {
     "data": {
      "text/plain": [
       "array(['Landing', 'Take-off', 'En route', 'Approach', 'Standing', 'Taxi',\n",
       "       'Unknown', nan, 'Manoeuvring', 'Initial Climb'], dtype=object)"
      ]
     },
     "execution_count": 55,
     "metadata": {},
     "output_type": "execute_result"
    }
   ],
   "source": [
    "data['FlightPhase'].unique()"
   ]
  },
  {
   "cell_type": "code",
   "execution_count": 56,
   "metadata": {},
   "outputs": [
    {
     "data": {
      "text/plain": [
       "Landing          461\n",
       "En route         199\n",
       "Taxi             156\n",
       "Take-off         155\n",
       "Approach         122\n",
       "Standing         105\n",
       "Unknown           30\n",
       "Initial Climb     17\n",
       "Manoeuvring        7\n",
       "Name: FlightPhase, dtype: int64"
      ]
     },
     "execution_count": 56,
     "metadata": {},
     "output_type": "execute_result"
    }
   ],
   "source": [
    "data['FlightPhase'].value_counts()"
   ]
  },
  {
   "cell_type": "code",
   "execution_count": 57,
   "metadata": {},
   "outputs": [
    {
     "name": "stdout",
     "output_type": "stream",
     "text": [
      "Using matplotlib backend: TkAgg\n",
      "%pylab is deprecated, use %matplotlib inline and import the required libraries.\n",
      "Populating the interactive namespace from numpy and matplotlib\n"
     ]
    }
   ],
   "source": [
    "%pylab\n",
    "plt.figure(figsize(15,6))\n",
    "sns.countplot(x='FlightPhase' , data=data, palette='hls')\n",
    "plt.xticks(rotation = 90)\n",
    "plt.show()"
   ]
  },
  {
   "cell_type": "code",
   "execution_count": 58,
   "metadata": {},
   "outputs": [],
   "source": [
    "# Use a for loop to create the 'accidents / 1 million flights' column\n",
    "data_avg = []\n",
    "for x in data['Year']:\n",
    "    if x ==2008:\n",
    "        avg = round((148* 1000000)/26500000,2)\n",
    "    elif x == 2009: \n",
    "        avg = round((118* 1000000)/25900000,2)\n",
    "    elif x == 2010: \n",
    "        avg = round((164 *1000000)/ 27800000,2)\n",
    "    elif x == 2011: \n",
    "        avg = round((132 *1000000)/ 30100000,2)\n",
    "    elif x == 2012: \n",
    "        avg = round((82 *1000000)/ 31200000,2)\n",
    "    elif x == 2013: \n",
    "        avg = round((117 * 1000000)/ 32000000,2)\n",
    "    elif x == 2014:\n",
    "        avg = round((118 * 1000000) / 33000000,2)\n",
    "    elif x == 2015:\n",
    "        avg = round((100 * 1000000)/ 340000000,2)\n",
    "    elif x == 2016:\n",
    "        avg = round((96 *1000000) / 35200000,2)\n",
    "    elif x == 2017:\n",
    "        avg = round((96 * 1000000) / 36400000,2)\n",
    "    elif x == 2018:\n",
    "        avg = round((115 * 1000000)/ 38100000,2)\n",
    "    elif x == 2019:\n",
    "        avg = round((116 * 1000000)/ 38900000,2)\n",
    "    elif x == 2020:\n",
    "        avg = round((77 * 1000000)/ 16900000,2)\n",
    "    elif x == 2021:\n",
    "        avg = round((17 * 1000000)/ 19300000,2)\n",
    "    else:\n",
    "        avg = round((11 * 1000000)/10750000,2)\n",
    "    data_avg.append(avg)\n",
    "    "
   ]
  },
  {
   "cell_type": "code",
   "execution_count": 59,
   "metadata": {},
   "outputs": [
    {
     "data": {
      "text/plain": [
       "[5.58,\n",
       " 5.58,\n",
       " 5.58,\n",
       " 5.58,\n",
       " 5.58,\n",
       " 5.58,\n",
       " 5.58,\n",
       " 5.58,\n",
       " 5.58,\n",
       " 5.58,\n",
       " 5.58,\n",
       " 5.58,\n",
       " 5.58,\n",
       " 5.58,\n",
       " 5.58,\n",
       " 5.58,\n",
       " 5.58,\n",
       " 5.58,\n",
       " 5.58,\n",
       " 5.58,\n",
       " 5.58,\n",
       " 5.58,\n",
       " 5.58,\n",
       " 5.58,\n",
       " 5.58,\n",
       " 5.58,\n",
       " 5.58,\n",
       " 5.58,\n",
       " 5.58,\n",
       " 5.58,\n",
       " 5.58,\n",
       " 5.58,\n",
       " 5.58,\n",
       " 5.58,\n",
       " 5.58,\n",
       " 5.58,\n",
       " 5.58,\n",
       " 5.58,\n",
       " 5.58,\n",
       " 5.58,\n",
       " 5.58,\n",
       " 5.58,\n",
       " 5.58,\n",
       " 5.58,\n",
       " 5.58,\n",
       " 5.58,\n",
       " 5.58,\n",
       " 5.58,\n",
       " 5.58,\n",
       " 5.58,\n",
       " 5.58,\n",
       " 5.58,\n",
       " 5.58,\n",
       " 5.58,\n",
       " 5.58,\n",
       " 5.58,\n",
       " 5.58,\n",
       " 5.58,\n",
       " 5.58,\n",
       " 5.58,\n",
       " 5.58,\n",
       " 5.58,\n",
       " 5.58,\n",
       " 5.58,\n",
       " 5.58,\n",
       " 5.58,\n",
       " 5.58,\n",
       " 5.58,\n",
       " 5.58,\n",
       " 5.58,\n",
       " 5.58,\n",
       " 5.58,\n",
       " 5.58,\n",
       " 5.58,\n",
       " 5.58,\n",
       " 5.58,\n",
       " 5.58,\n",
       " 5.58,\n",
       " 5.58,\n",
       " 5.58,\n",
       " 5.58,\n",
       " 5.58,\n",
       " 5.58,\n",
       " 5.58,\n",
       " 5.58,\n",
       " 5.58,\n",
       " 5.58,\n",
       " 5.58,\n",
       " 5.58,\n",
       " 5.58,\n",
       " 5.58,\n",
       " 5.58,\n",
       " 5.58,\n",
       " 5.58,\n",
       " 5.58,\n",
       " 5.58,\n",
       " 5.58,\n",
       " 5.58,\n",
       " 5.58,\n",
       " 5.58,\n",
       " 5.58,\n",
       " 5.58,\n",
       " 5.58,\n",
       " 5.58,\n",
       " 5.58,\n",
       " 5.58,\n",
       " 5.58,\n",
       " 5.58,\n",
       " 5.58,\n",
       " 5.58,\n",
       " 5.58,\n",
       " 5.58,\n",
       " 5.58,\n",
       " 5.58,\n",
       " 5.58,\n",
       " 5.58,\n",
       " 5.58,\n",
       " 5.58,\n",
       " 5.58,\n",
       " 5.58,\n",
       " 5.58,\n",
       " 5.58,\n",
       " 5.58,\n",
       " 5.58,\n",
       " 5.58,\n",
       " 5.58,\n",
       " 5.58,\n",
       " 5.58,\n",
       " 5.58,\n",
       " 5.58,\n",
       " 5.58,\n",
       " 5.58,\n",
       " 5.58,\n",
       " 5.58,\n",
       " 5.58,\n",
       " 5.58,\n",
       " 5.58,\n",
       " 5.58,\n",
       " 5.58,\n",
       " 5.58,\n",
       " 5.58,\n",
       " 5.58,\n",
       " 5.58,\n",
       " 5.58,\n",
       " 5.58,\n",
       " 5.58,\n",
       " 5.58,\n",
       " 5.58,\n",
       " 4.56,\n",
       " 4.56,\n",
       " 4.56,\n",
       " 4.56,\n",
       " 4.56,\n",
       " 4.56,\n",
       " 4.56,\n",
       " 4.56,\n",
       " 4.56,\n",
       " 4.56,\n",
       " 4.56,\n",
       " 4.56,\n",
       " 4.56,\n",
       " 4.56,\n",
       " 4.56,\n",
       " 4.56,\n",
       " 4.56,\n",
       " 4.56,\n",
       " 4.56,\n",
       " 4.56,\n",
       " 4.56,\n",
       " 4.56,\n",
       " 4.56,\n",
       " 4.56,\n",
       " 4.56,\n",
       " 4.56,\n",
       " 4.56,\n",
       " 4.56,\n",
       " 4.56,\n",
       " 4.56,\n",
       " 4.56,\n",
       " 4.56,\n",
       " 4.56,\n",
       " 4.56,\n",
       " 4.56,\n",
       " 4.56,\n",
       " 4.56,\n",
       " 4.56,\n",
       " 4.56,\n",
       " 4.56,\n",
       " 4.56,\n",
       " 4.56,\n",
       " 4.56,\n",
       " 4.56,\n",
       " 4.56,\n",
       " 4.56,\n",
       " 4.56,\n",
       " 4.56,\n",
       " 4.56,\n",
       " 4.56,\n",
       " 4.56,\n",
       " 4.56,\n",
       " 4.56,\n",
       " 4.56,\n",
       " 4.56,\n",
       " 4.56,\n",
       " 4.56,\n",
       " 4.56,\n",
       " 4.56,\n",
       " 4.56,\n",
       " 4.56,\n",
       " 4.56,\n",
       " 4.56,\n",
       " 4.56,\n",
       " 4.56,\n",
       " 4.56,\n",
       " 4.56,\n",
       " 4.56,\n",
       " 4.56,\n",
       " 4.56,\n",
       " 4.56,\n",
       " 4.56,\n",
       " 4.56,\n",
       " 4.56,\n",
       " 4.56,\n",
       " 4.56,\n",
       " 4.56,\n",
       " 4.56,\n",
       " 4.56,\n",
       " 4.56,\n",
       " 4.56,\n",
       " 4.56,\n",
       " 4.56,\n",
       " 4.56,\n",
       " 4.56,\n",
       " 4.56,\n",
       " 4.56,\n",
       " 4.56,\n",
       " 4.56,\n",
       " 4.56,\n",
       " 4.56,\n",
       " 4.56,\n",
       " 4.56,\n",
       " 4.56,\n",
       " 4.56,\n",
       " 4.56,\n",
       " 4.56,\n",
       " 4.56,\n",
       " 4.56,\n",
       " 4.56,\n",
       " 4.56,\n",
       " 4.56,\n",
       " 4.56,\n",
       " 4.56,\n",
       " 4.56,\n",
       " 4.56,\n",
       " 4.56,\n",
       " 4.56,\n",
       " 4.56,\n",
       " 4.56,\n",
       " 4.56,\n",
       " 4.56,\n",
       " 4.56,\n",
       " 4.56,\n",
       " 4.56,\n",
       " 4.56,\n",
       " 4.56,\n",
       " 4.56,\n",
       " 5.9,\n",
       " 5.9,\n",
       " 5.9,\n",
       " 5.9,\n",
       " 5.9,\n",
       " 5.9,\n",
       " 5.9,\n",
       " 5.9,\n",
       " 5.9,\n",
       " 5.9,\n",
       " 5.9,\n",
       " 5.9,\n",
       " 5.9,\n",
       " 5.9,\n",
       " 5.9,\n",
       " 5.9,\n",
       " 5.9,\n",
       " 5.9,\n",
       " 5.9,\n",
       " 5.9,\n",
       " 5.9,\n",
       " 5.9,\n",
       " 5.9,\n",
       " 5.9,\n",
       " 5.9,\n",
       " 5.9,\n",
       " 5.9,\n",
       " 5.9,\n",
       " 5.9,\n",
       " 5.9,\n",
       " 5.9,\n",
       " 5.9,\n",
       " 5.9,\n",
       " 5.9,\n",
       " 5.9,\n",
       " 5.9,\n",
       " 5.9,\n",
       " 5.9,\n",
       " 5.9,\n",
       " 5.9,\n",
       " 5.9,\n",
       " 5.9,\n",
       " 5.9,\n",
       " 5.9,\n",
       " 5.9,\n",
       " 5.9,\n",
       " 5.9,\n",
       " 5.9,\n",
       " 5.9,\n",
       " 5.9,\n",
       " 5.9,\n",
       " 5.9,\n",
       " 5.9,\n",
       " 5.9,\n",
       " 5.9,\n",
       " 5.9,\n",
       " 5.9,\n",
       " 5.9,\n",
       " 5.9,\n",
       " 5.9,\n",
       " 5.9,\n",
       " 5.9,\n",
       " 5.9,\n",
       " 5.9,\n",
       " 5.9,\n",
       " 5.9,\n",
       " 5.9,\n",
       " 5.9,\n",
       " 5.9,\n",
       " 5.9,\n",
       " 5.9,\n",
       " 5.9,\n",
       " 5.9,\n",
       " 5.9,\n",
       " 5.9,\n",
       " 5.9,\n",
       " 5.9,\n",
       " 5.9,\n",
       " 5.9,\n",
       " 5.9,\n",
       " 5.9,\n",
       " 5.9,\n",
       " 5.9,\n",
       " 5.9,\n",
       " 5.9,\n",
       " 5.9,\n",
       " 5.9,\n",
       " 5.9,\n",
       " 5.9,\n",
       " 5.9,\n",
       " 5.9,\n",
       " 5.9,\n",
       " 5.9,\n",
       " 5.9,\n",
       " 5.9,\n",
       " 5.9,\n",
       " 5.9,\n",
       " 5.9,\n",
       " 5.9,\n",
       " 5.9,\n",
       " 5.9,\n",
       " 5.9,\n",
       " 5.9,\n",
       " 5.9,\n",
       " 5.9,\n",
       " 5.9,\n",
       " 5.9,\n",
       " 5.9,\n",
       " 5.9,\n",
       " 5.9,\n",
       " 5.9,\n",
       " 5.9,\n",
       " 5.9,\n",
       " 5.9,\n",
       " 5.9,\n",
       " 5.9,\n",
       " 5.9,\n",
       " 5.9,\n",
       " 5.9,\n",
       " 5.9,\n",
       " 5.9,\n",
       " 5.9,\n",
       " 5.9,\n",
       " 5.9,\n",
       " 5.9,\n",
       " 5.9,\n",
       " 5.9,\n",
       " 5.9,\n",
       " 5.9,\n",
       " 5.9,\n",
       " 5.9,\n",
       " 5.9,\n",
       " 5.9,\n",
       " 5.9,\n",
       " 5.9,\n",
       " 5.9,\n",
       " 5.9,\n",
       " 5.9,\n",
       " 5.9,\n",
       " 5.9,\n",
       " 5.9,\n",
       " 5.9,\n",
       " 5.9,\n",
       " 5.9,\n",
       " 5.9,\n",
       " 5.9,\n",
       " 5.9,\n",
       " 5.9,\n",
       " 5.9,\n",
       " 5.9,\n",
       " 5.9,\n",
       " 5.9,\n",
       " 5.9,\n",
       " 5.9,\n",
       " 5.9,\n",
       " 5.9,\n",
       " 5.9,\n",
       " 5.9,\n",
       " 5.9,\n",
       " 5.9,\n",
       " 5.9,\n",
       " 5.9,\n",
       " 5.9,\n",
       " 5.9,\n",
       " 4.39,\n",
       " 4.39,\n",
       " 4.39,\n",
       " 4.39,\n",
       " 4.39,\n",
       " 4.39,\n",
       " 4.39,\n",
       " 4.39,\n",
       " 4.39,\n",
       " 4.39,\n",
       " 4.39,\n",
       " 4.39,\n",
       " 4.39,\n",
       " 4.39,\n",
       " 4.39,\n",
       " 4.39,\n",
       " 4.39,\n",
       " 4.39,\n",
       " 4.39,\n",
       " 4.39,\n",
       " 4.39,\n",
       " 4.39,\n",
       " 4.39,\n",
       " 4.39,\n",
       " 4.39,\n",
       " 4.39,\n",
       " 4.39,\n",
       " 4.39,\n",
       " 4.39,\n",
       " 4.39,\n",
       " 4.39,\n",
       " 4.39,\n",
       " 4.39,\n",
       " 4.39,\n",
       " 4.39,\n",
       " 4.39,\n",
       " 4.39,\n",
       " 4.39,\n",
       " 4.39,\n",
       " 4.39,\n",
       " 4.39,\n",
       " 4.39,\n",
       " 4.39,\n",
       " 4.39,\n",
       " 4.39,\n",
       " 4.39,\n",
       " 4.39,\n",
       " 4.39,\n",
       " 4.39,\n",
       " 4.39,\n",
       " 4.39,\n",
       " 4.39,\n",
       " 4.39,\n",
       " 4.39,\n",
       " 4.39,\n",
       " 4.39,\n",
       " 4.39,\n",
       " 4.39,\n",
       " 4.39,\n",
       " 4.39,\n",
       " 4.39,\n",
       " 4.39,\n",
       " 4.39,\n",
       " 4.39,\n",
       " 4.39,\n",
       " 4.39,\n",
       " 4.39,\n",
       " 4.39,\n",
       " 4.39,\n",
       " 4.39,\n",
       " 4.39,\n",
       " 4.39,\n",
       " 4.39,\n",
       " 4.39,\n",
       " 4.39,\n",
       " 4.39,\n",
       " 4.39,\n",
       " 4.39,\n",
       " 4.39,\n",
       " 4.39,\n",
       " 4.39,\n",
       " 4.39,\n",
       " 4.39,\n",
       " 4.39,\n",
       " 4.39,\n",
       " 4.39,\n",
       " 4.39,\n",
       " 4.39,\n",
       " 4.39,\n",
       " 4.39,\n",
       " 4.39,\n",
       " 4.39,\n",
       " 4.39,\n",
       " 4.39,\n",
       " 4.39,\n",
       " 4.39,\n",
       " 4.39,\n",
       " 4.39,\n",
       " 4.39,\n",
       " 4.39,\n",
       " 4.39,\n",
       " 4.39,\n",
       " 4.39,\n",
       " 4.39,\n",
       " 4.39,\n",
       " 4.39,\n",
       " 4.39,\n",
       " 4.39,\n",
       " 4.39,\n",
       " 4.39,\n",
       " 4.39,\n",
       " 4.39,\n",
       " 4.39,\n",
       " 4.39,\n",
       " 4.39,\n",
       " 4.39,\n",
       " 4.39,\n",
       " 4.39,\n",
       " 4.39,\n",
       " 4.39,\n",
       " 4.39,\n",
       " 4.39,\n",
       " 4.39,\n",
       " 4.39,\n",
       " 4.39,\n",
       " 4.39,\n",
       " 4.39,\n",
       " 4.39,\n",
       " 4.39,\n",
       " 4.39,\n",
       " 4.39,\n",
       " 4.39,\n",
       " 2.63,\n",
       " 2.63,\n",
       " 2.63,\n",
       " 2.63,\n",
       " 2.63,\n",
       " 2.63,\n",
       " 2.63,\n",
       " 2.63,\n",
       " 2.63,\n",
       " 2.63,\n",
       " 2.63,\n",
       " 2.63,\n",
       " 2.63,\n",
       " 2.63,\n",
       " 2.63,\n",
       " 2.63,\n",
       " 2.63,\n",
       " 2.63,\n",
       " 2.63,\n",
       " 2.63,\n",
       " 2.63,\n",
       " 2.63,\n",
       " 2.63,\n",
       " 2.63,\n",
       " 2.63,\n",
       " 2.63,\n",
       " 2.63,\n",
       " 2.63,\n",
       " 2.63,\n",
       " 2.63,\n",
       " 2.63,\n",
       " 2.63,\n",
       " 2.63,\n",
       " 2.63,\n",
       " 2.63,\n",
       " 2.63,\n",
       " 2.63,\n",
       " 2.63,\n",
       " 2.63,\n",
       " 2.63,\n",
       " 2.63,\n",
       " 2.63,\n",
       " 2.63,\n",
       " 2.63,\n",
       " 2.63,\n",
       " 2.63,\n",
       " 2.63,\n",
       " 2.63,\n",
       " 2.63,\n",
       " 2.63,\n",
       " 2.63,\n",
       " 2.63,\n",
       " 2.63,\n",
       " 2.63,\n",
       " 2.63,\n",
       " 2.63,\n",
       " 2.63,\n",
       " 2.63,\n",
       " 2.63,\n",
       " 2.63,\n",
       " 2.63,\n",
       " 2.63,\n",
       " 2.63,\n",
       " 2.63,\n",
       " 2.63,\n",
       " 2.63,\n",
       " 2.63,\n",
       " 2.63,\n",
       " 2.63,\n",
       " 2.63,\n",
       " 2.63,\n",
       " 2.63,\n",
       " 2.63,\n",
       " 2.63,\n",
       " 2.63,\n",
       " 2.63,\n",
       " 2.63,\n",
       " 2.63,\n",
       " 2.63,\n",
       " 2.63,\n",
       " 2.63,\n",
       " 2.63,\n",
       " 3.66,\n",
       " 3.66,\n",
       " 3.66,\n",
       " 3.66,\n",
       " 3.66,\n",
       " 3.66,\n",
       " 3.66,\n",
       " 3.66,\n",
       " 3.66,\n",
       " 3.66,\n",
       " 3.66,\n",
       " 3.66,\n",
       " 3.66,\n",
       " 3.66,\n",
       " 3.66,\n",
       " 3.66,\n",
       " 3.66,\n",
       " 3.66,\n",
       " 3.66,\n",
       " 3.66,\n",
       " 3.66,\n",
       " 3.66,\n",
       " 3.66,\n",
       " 3.66,\n",
       " 3.66,\n",
       " 3.66,\n",
       " 3.66,\n",
       " 3.66,\n",
       " 3.66,\n",
       " 3.66,\n",
       " 3.66,\n",
       " 3.66,\n",
       " 3.66,\n",
       " 3.66,\n",
       " 3.66,\n",
       " 3.66,\n",
       " 3.66,\n",
       " 3.66,\n",
       " 3.66,\n",
       " 3.66,\n",
       " 3.66,\n",
       " 3.66,\n",
       " 3.66,\n",
       " 3.66,\n",
       " 3.66,\n",
       " 3.66,\n",
       " 3.66,\n",
       " 3.66,\n",
       " 3.66,\n",
       " 3.66,\n",
       " 3.66,\n",
       " 3.66,\n",
       " 3.66,\n",
       " 3.66,\n",
       " 3.66,\n",
       " 3.66,\n",
       " 3.66,\n",
       " 3.66,\n",
       " 3.66,\n",
       " 3.66,\n",
       " 3.66,\n",
       " 3.66,\n",
       " 3.66,\n",
       " 3.66,\n",
       " 3.66,\n",
       " 3.66,\n",
       " 3.66,\n",
       " 3.66,\n",
       " 3.66,\n",
       " 3.66,\n",
       " 3.66,\n",
       " 3.66,\n",
       " 3.66,\n",
       " 3.66,\n",
       " 3.66,\n",
       " 3.66,\n",
       " 3.66,\n",
       " 3.66,\n",
       " 3.66,\n",
       " 3.66,\n",
       " 3.66,\n",
       " 3.66,\n",
       " 3.66,\n",
       " 3.66,\n",
       " 3.66,\n",
       " 3.66,\n",
       " 3.66,\n",
       " 3.66,\n",
       " 3.66,\n",
       " 3.66,\n",
       " 3.66,\n",
       " 3.66,\n",
       " 3.66,\n",
       " 3.66,\n",
       " 3.66,\n",
       " 3.66,\n",
       " 3.66,\n",
       " 3.66,\n",
       " 3.66,\n",
       " 3.66,\n",
       " 3.66,\n",
       " 3.66,\n",
       " 3.66,\n",
       " 3.66,\n",
       " 3.66,\n",
       " 3.66,\n",
       " 3.66,\n",
       " 3.66,\n",
       " 3.66,\n",
       " 3.66,\n",
       " 3.66,\n",
       " 3.66,\n",
       " 3.66,\n",
       " 3.66,\n",
       " 3.66,\n",
       " 3.66,\n",
       " 3.66,\n",
       " 3.58,\n",
       " 3.58,\n",
       " 3.58,\n",
       " 3.58,\n",
       " 3.58,\n",
       " 3.58,\n",
       " 3.58,\n",
       " 3.58,\n",
       " 3.58,\n",
       " 3.58,\n",
       " 3.58,\n",
       " 3.58,\n",
       " 3.58,\n",
       " 3.58,\n",
       " 3.58,\n",
       " 3.58,\n",
       " 3.58,\n",
       " 3.58,\n",
       " 3.58,\n",
       " 3.58,\n",
       " 3.58,\n",
       " 3.58,\n",
       " 3.58,\n",
       " 3.58,\n",
       " 3.58,\n",
       " 3.58,\n",
       " 3.58,\n",
       " 3.58,\n",
       " 3.58,\n",
       " 3.58,\n",
       " 3.58,\n",
       " 3.58,\n",
       " 3.58,\n",
       " 3.58,\n",
       " 3.58,\n",
       " 3.58,\n",
       " 3.58,\n",
       " 3.58,\n",
       " 3.58,\n",
       " 3.58,\n",
       " 3.58,\n",
       " 3.58,\n",
       " 3.58,\n",
       " 3.58,\n",
       " 3.58,\n",
       " 3.58,\n",
       " 3.58,\n",
       " 3.58,\n",
       " 3.58,\n",
       " 3.58,\n",
       " 3.58,\n",
       " 3.58,\n",
       " 3.58,\n",
       " 3.58,\n",
       " 3.58,\n",
       " 3.58,\n",
       " 3.58,\n",
       " 3.58,\n",
       " 3.58,\n",
       " 3.58,\n",
       " 3.58,\n",
       " 3.58,\n",
       " 3.58,\n",
       " 3.58,\n",
       " 3.58,\n",
       " 3.58,\n",
       " 3.58,\n",
       " 3.58,\n",
       " 3.58,\n",
       " 3.58,\n",
       " 3.58,\n",
       " 3.58,\n",
       " 3.58,\n",
       " 3.58,\n",
       " 3.58,\n",
       " 3.58,\n",
       " 3.58,\n",
       " 3.58,\n",
       " 3.58,\n",
       " 3.58,\n",
       " 3.58,\n",
       " 3.58,\n",
       " 3.58,\n",
       " 3.58,\n",
       " 3.58,\n",
       " 3.58,\n",
       " 3.58,\n",
       " 3.58,\n",
       " 3.58,\n",
       " 3.58,\n",
       " 3.58,\n",
       " 3.58,\n",
       " 3.58,\n",
       " 3.58,\n",
       " 3.58,\n",
       " 3.58,\n",
       " 3.58,\n",
       " 3.58,\n",
       " 3.58,\n",
       " 3.58,\n",
       " 3.58,\n",
       " 3.58,\n",
       " 3.58,\n",
       " 3.58,\n",
       " 3.58,\n",
       " 3.58,\n",
       " 3.58,\n",
       " 3.58,\n",
       " 3.58,\n",
       " 3.58,\n",
       " 3.58,\n",
       " 3.58,\n",
       " 3.58,\n",
       " 3.58,\n",
       " 3.58,\n",
       " 3.58,\n",
       " 3.58,\n",
       " 3.58,\n",
       " 0.29,\n",
       " 0.29,\n",
       " 0.29,\n",
       " 0.29,\n",
       " 0.29,\n",
       " 0.29,\n",
       " 0.29,\n",
       " 0.29,\n",
       " 0.29,\n",
       " 0.29,\n",
       " 0.29,\n",
       " 0.29,\n",
       " 0.29,\n",
       " 0.29,\n",
       " 0.29,\n",
       " 0.29,\n",
       " 0.29,\n",
       " 0.29,\n",
       " 0.29,\n",
       " 0.29,\n",
       " 0.29,\n",
       " 0.29,\n",
       " 0.29,\n",
       " 0.29,\n",
       " 0.29,\n",
       " 0.29,\n",
       " 0.29,\n",
       " 0.29,\n",
       " 0.29,\n",
       " 0.29,\n",
       " 0.29,\n",
       " 0.29,\n",
       " 0.29,\n",
       " 0.29,\n",
       " 0.29,\n",
       " 0.29,\n",
       " 0.29,\n",
       " 0.29,\n",
       " 0.29,\n",
       " 0.29,\n",
       " 0.29,\n",
       " 0.29,\n",
       " 0.29,\n",
       " 0.29,\n",
       " 0.29,\n",
       " 0.29,\n",
       " 0.29,\n",
       " 0.29,\n",
       " 0.29,\n",
       " 0.29,\n",
       " 0.29,\n",
       " 0.29,\n",
       " 0.29,\n",
       " 0.29,\n",
       " 0.29,\n",
       " 0.29,\n",
       " 0.29,\n",
       " 0.29,\n",
       " 0.29,\n",
       " 0.29,\n",
       " 0.29,\n",
       " 0.29,\n",
       " 0.29,\n",
       " 0.29,\n",
       " 0.29,\n",
       " 0.29,\n",
       " 0.29,\n",
       " 0.29,\n",
       " 0.29,\n",
       " 0.29,\n",
       " 0.29,\n",
       " 0.29,\n",
       " 0.29,\n",
       " 0.29,\n",
       " 0.29,\n",
       " 0.29,\n",
       " 0.29,\n",
       " 0.29,\n",
       " 0.29,\n",
       " 0.29,\n",
       " 0.29,\n",
       " 0.29,\n",
       " 0.29,\n",
       " 0.29,\n",
       " 0.29,\n",
       " 0.29,\n",
       " 0.29,\n",
       " 0.29,\n",
       " 0.29,\n",
       " 0.29,\n",
       " 0.29,\n",
       " 0.29,\n",
       " 0.29,\n",
       " 0.29,\n",
       " 0.29,\n",
       " 0.29,\n",
       " 0.29,\n",
       " 0.29,\n",
       " 0.29,\n",
       " 0.29,\n",
       " 2.73,\n",
       " 2.73,\n",
       " 2.73,\n",
       " 2.73,\n",
       " 2.73,\n",
       " 2.73,\n",
       " 2.73,\n",
       " 2.73,\n",
       " 2.73,\n",
       " 2.73,\n",
       " 2.73,\n",
       " 2.73,\n",
       " 2.73,\n",
       " 2.73,\n",
       " 2.73,\n",
       " 2.73,\n",
       " 2.73,\n",
       " 2.73,\n",
       " 2.73,\n",
       " 2.73,\n",
       " 2.73,\n",
       " ...]"
      ]
     },
     "execution_count": 59,
     "metadata": {},
     "output_type": "execute_result"
    }
   ],
   "source": [
    "data_avg"
   ]
  },
  {
   "cell_type": "code",
   "execution_count": 60,
   "metadata": {},
   "outputs": [],
   "source": [
    "#Create respective column\n",
    "data['acc/1MillionFlights']=data_avg"
   ]
  },
  {
   "cell_type": "code",
   "execution_count": 61,
   "metadata": {},
   "outputs": [
    {
     "data": {
      "text/plain": [
       "551"
      ]
     },
     "execution_count": 61,
     "metadata": {},
     "output_type": "execute_result"
    }
   ],
   "source": [
    "#Create respective column#check injury level valuesdata['acc/1MillionFlights']=data_avg\n",
    "data['InjuryLevel'].isnull().sum()"
   ]
  },
  {
   "cell_type": "code",
   "execution_count": 62,
   "metadata": {},
   "outputs": [],
   "source": [
    "#checl nulls on injury level column\n",
    "data['InjuryLevel'].fillna('unknown',inplace=True)"
   ]
  },
  {
   "cell_type": "code",
   "execution_count": 63,
   "metadata": {},
   "outputs": [],
   "source": [
    "#Create a list to classify  injury level column in only two categories\n",
    "il_update=[]\n",
    "for x in data['InjuryLevel']:\n",
    "    if x in ['Serious','Fatal']:\n",
    "        x='Serious/Fatal'\n",
    "    else:\n",
    "        x='Minor/None'\n",
    "    il_update.append(x)"
   ]
  },
  {
   "cell_type": "code",
   "execution_count": 64,
   "metadata": {},
   "outputs": [],
   "source": [
    "# update injury level column  for only two categories\n",
    "data['InjuryLevel']=il_update"
   ]
  },
  {
   "cell_type": "code",
   "execution_count": 65,
   "metadata": {},
   "outputs": [],
   "source": [
    "#apply lambda to transform in numerics (binary)\n",
    "data['InjuryLevel']=data['InjuryLevel'].apply(lambda x: 1 if x=='Serious/Fatal' else 0)"
   ]
  },
  {
   "cell_type": "code",
   "execution_count": 66,
   "metadata": {},
   "outputs": [],
   "source": [
    "#rename it to serius fatal column\n",
    "data[\"Serious/Fatal\"]=data['InjuryLevel']"
   ]
  },
  {
   "cell_type": "code",
   "execution_count": 67,
   "metadata": {},
   "outputs": [
    {
     "data": {
      "text/html": [
       "<div>\n",
       "<style scoped>\n",
       "    .dataframe tbody tr th:only-of-type {\n",
       "        vertical-align: middle;\n",
       "    }\n",
       "\n",
       "    .dataframe tbody tr th {\n",
       "        vertical-align: top;\n",
       "    }\n",
       "\n",
       "    .dataframe thead th {\n",
       "        text-align: right;\n",
       "    }\n",
       "</style>\n",
       "<table border=\"1\" class=\"dataframe\">\n",
       "  <thead>\n",
       "    <tr style=\"text-align: right;\">\n",
       "      <th></th>\n",
       "      <th>FlightPhase</th>\n",
       "      <th>Fatalities</th>\n",
       "      <th>InjuryLevel</th>\n",
       "      <th>Risk</th>\n",
       "      <th>Year</th>\n",
       "      <th>acc/1MillionFlights</th>\n",
       "      <th>Serious/Fatal</th>\n",
       "    </tr>\n",
       "  </thead>\n",
       "  <tbody>\n",
       "    <tr>\n",
       "      <th>0</th>\n",
       "      <td>Landing</td>\n",
       "      <td>0.0</td>\n",
       "      <td>0</td>\n",
       "      <td>RS</td>\n",
       "      <td>2008</td>\n",
       "      <td>5.58</td>\n",
       "      <td>0</td>\n",
       "    </tr>\n",
       "    <tr>\n",
       "      <th>1</th>\n",
       "      <td>Take-off</td>\n",
       "      <td>0.0</td>\n",
       "      <td>0</td>\n",
       "      <td>OTH</td>\n",
       "      <td>2008</td>\n",
       "      <td>5.58</td>\n",
       "      <td>0</td>\n",
       "    </tr>\n",
       "    <tr>\n",
       "      <th>3</th>\n",
       "      <td>En route</td>\n",
       "      <td>14.0</td>\n",
       "      <td>1</td>\n",
       "      <td>SCF</td>\n",
       "      <td>2008</td>\n",
       "      <td>5.58</td>\n",
       "      <td>1</td>\n",
       "    </tr>\n",
       "    <tr>\n",
       "      <th>7</th>\n",
       "      <td>Approach</td>\n",
       "      <td>0.0</td>\n",
       "      <td>0</td>\n",
       "      <td>SCF</td>\n",
       "      <td>2008</td>\n",
       "      <td>5.58</td>\n",
       "      <td>0</td>\n",
       "    </tr>\n",
       "    <tr>\n",
       "      <th>8</th>\n",
       "      <td>Standing</td>\n",
       "      <td>0.0</td>\n",
       "      <td>0</td>\n",
       "      <td>RS</td>\n",
       "      <td>2008</td>\n",
       "      <td>5.58</td>\n",
       "      <td>0</td>\n",
       "    </tr>\n",
       "    <tr>\n",
       "      <th>...</th>\n",
       "      <td>...</td>\n",
       "      <td>...</td>\n",
       "      <td>...</td>\n",
       "      <td>...</td>\n",
       "      <td>...</td>\n",
       "      <td>...</td>\n",
       "      <td>...</td>\n",
       "    </tr>\n",
       "    <tr>\n",
       "      <th>6093</th>\n",
       "      <td>En route</td>\n",
       "      <td>132.0</td>\n",
       "      <td>1</td>\n",
       "      <td>LOC-I</td>\n",
       "      <td>2022</td>\n",
       "      <td>1.02</td>\n",
       "      <td>1</td>\n",
       "    </tr>\n",
       "    <tr>\n",
       "      <th>6098</th>\n",
       "      <td>Landing</td>\n",
       "      <td>0.0</td>\n",
       "      <td>0</td>\n",
       "      <td>RS</td>\n",
       "      <td>2022</td>\n",
       "      <td>1.02</td>\n",
       "      <td>0</td>\n",
       "    </tr>\n",
       "    <tr>\n",
       "      <th>6100</th>\n",
       "      <td>Take-off</td>\n",
       "      <td>0.0</td>\n",
       "      <td>0</td>\n",
       "      <td>RS</td>\n",
       "      <td>2022</td>\n",
       "      <td>1.02</td>\n",
       "      <td>0</td>\n",
       "    </tr>\n",
       "    <tr>\n",
       "      <th>6104</th>\n",
       "      <td>Landing</td>\n",
       "      <td>0.0</td>\n",
       "      <td>0</td>\n",
       "      <td>RS</td>\n",
       "      <td>2022</td>\n",
       "      <td>1.02</td>\n",
       "      <td>0</td>\n",
       "    </tr>\n",
       "    <tr>\n",
       "      <th>6108</th>\n",
       "      <td>Take-off</td>\n",
       "      <td>0.0</td>\n",
       "      <td>0</td>\n",
       "      <td>RS</td>\n",
       "      <td>2022</td>\n",
       "      <td>1.02</td>\n",
       "      <td>0</td>\n",
       "    </tr>\n",
       "  </tbody>\n",
       "</table>\n",
       "<p>1507 rows × 7 columns</p>\n",
       "</div>"
      ],
      "text/plain": [
       "     FlightPhase  Fatalities  InjuryLevel   Risk  Year  acc/1MillionFlights  \\\n",
       "0        Landing         0.0            0     RS  2008                 5.58   \n",
       "1       Take-off         0.0            0    OTH  2008                 5.58   \n",
       "3       En route        14.0            1    SCF  2008                 5.58   \n",
       "7       Approach         0.0            0    SCF  2008                 5.58   \n",
       "8       Standing         0.0            0     RS  2008                 5.58   \n",
       "...          ...         ...          ...    ...   ...                  ...   \n",
       "6093    En route       132.0            1  LOC-I  2022                 1.02   \n",
       "6098     Landing         0.0            0     RS  2022                 1.02   \n",
       "6100    Take-off         0.0            0     RS  2022                 1.02   \n",
       "6104     Landing         0.0            0     RS  2022                 1.02   \n",
       "6108    Take-off         0.0            0     RS  2022                 1.02   \n",
       "\n",
       "      Serious/Fatal  \n",
       "0                 0  \n",
       "1                 0  \n",
       "3                 1  \n",
       "7                 0  \n",
       "8                 0  \n",
       "...             ...  \n",
       "6093              1  \n",
       "6098              0  \n",
       "6100              0  \n",
       "6104              0  \n",
       "6108              0  \n",
       "\n",
       "[1507 rows x 7 columns]"
      ]
     },
     "execution_count": 67,
     "metadata": {},
     "output_type": "execute_result"
    }
   ],
   "source": [
    "data"
   ]
  },
  {
   "cell_type": "code",
   "execution_count": 68,
   "metadata": {},
   "outputs": [
    {
     "ename": "SyntaxError",
     "evalue": "invalid syntax (1333356100.py, line 1)",
     "output_type": "error",
     "traceback": [
      "\u001b[1;36m  Input \u001b[1;32mIn [68]\u001b[1;36m\u001b[0m\n\u001b[1;33m    data.drop(columns=['InjuryLevel'],inplace=True)data.drop(columns=['InjuryLevel'],inplace=True)\u001b[0m\n\u001b[1;37m                                                   ^\u001b[0m\n\u001b[1;31mSyntaxError\u001b[0m\u001b[1;31m:\u001b[0m invalid syntax\n"
     ]
    }
   ],
   "source": [
    "data.drop(columns=['InjuryLevel'],inplace=True)data.drop(columns=['InjuryLevel'],inplace=True)"
   ]
  },
  {
   "cell_type": "code",
   "execution_count": 69,
   "metadata": {},
   "outputs": [
    {
     "data": {
      "text/html": [
       "<div>\n",
       "<style scoped>\n",
       "    .dataframe tbody tr th:only-of-type {\n",
       "        vertical-align: middle;\n",
       "    }\n",
       "\n",
       "    .dataframe tbody tr th {\n",
       "        vertical-align: top;\n",
       "    }\n",
       "\n",
       "    .dataframe thead th {\n",
       "        text-align: right;\n",
       "    }\n",
       "</style>\n",
       "<table border=\"1\" class=\"dataframe\">\n",
       "  <thead>\n",
       "    <tr style=\"text-align: right;\">\n",
       "      <th></th>\n",
       "      <th>FlightPhase</th>\n",
       "      <th>Fatalities</th>\n",
       "      <th>InjuryLevel</th>\n",
       "      <th>Risk</th>\n",
       "      <th>Year</th>\n",
       "      <th>acc/1MillionFlights</th>\n",
       "      <th>Serious/Fatal</th>\n",
       "    </tr>\n",
       "  </thead>\n",
       "  <tbody>\n",
       "    <tr>\n",
       "      <th>0</th>\n",
       "      <td>Landing</td>\n",
       "      <td>0.0</td>\n",
       "      <td>0</td>\n",
       "      <td>RS</td>\n",
       "      <td>2008</td>\n",
       "      <td>5.58</td>\n",
       "      <td>0</td>\n",
       "    </tr>\n",
       "    <tr>\n",
       "      <th>1</th>\n",
       "      <td>Take-off</td>\n",
       "      <td>0.0</td>\n",
       "      <td>0</td>\n",
       "      <td>OTH</td>\n",
       "      <td>2008</td>\n",
       "      <td>5.58</td>\n",
       "      <td>0</td>\n",
       "    </tr>\n",
       "    <tr>\n",
       "      <th>3</th>\n",
       "      <td>En route</td>\n",
       "      <td>14.0</td>\n",
       "      <td>1</td>\n",
       "      <td>SCF</td>\n",
       "      <td>2008</td>\n",
       "      <td>5.58</td>\n",
       "      <td>1</td>\n",
       "    </tr>\n",
       "    <tr>\n",
       "      <th>7</th>\n",
       "      <td>Approach</td>\n",
       "      <td>0.0</td>\n",
       "      <td>0</td>\n",
       "      <td>SCF</td>\n",
       "      <td>2008</td>\n",
       "      <td>5.58</td>\n",
       "      <td>0</td>\n",
       "    </tr>\n",
       "    <tr>\n",
       "      <th>8</th>\n",
       "      <td>Standing</td>\n",
       "      <td>0.0</td>\n",
       "      <td>0</td>\n",
       "      <td>RS</td>\n",
       "      <td>2008</td>\n",
       "      <td>5.58</td>\n",
       "      <td>0</td>\n",
       "    </tr>\n",
       "  </tbody>\n",
       "</table>\n",
       "</div>"
      ],
      "text/plain": [
       "  FlightPhase  Fatalities  InjuryLevel Risk  Year  acc/1MillionFlights  \\\n",
       "0     Landing         0.0            0   RS  2008                 5.58   \n",
       "1    Take-off         0.0            0  OTH  2008                 5.58   \n",
       "3    En route        14.0            1  SCF  2008                 5.58   \n",
       "7    Approach         0.0            0  SCF  2008                 5.58   \n",
       "8    Standing         0.0            0   RS  2008                 5.58   \n",
       "\n",
       "   Serious/Fatal  \n",
       "0              0  \n",
       "1              0  \n",
       "3              1  \n",
       "7              0  \n",
       "8              0  "
      ]
     },
     "execution_count": 69,
     "metadata": {},
     "output_type": "execute_result"
    }
   ],
   "source": [
    "data.head()"
   ]
  },
  {
   "cell_type": "code",
   "execution_count": 70,
   "metadata": {},
   "outputs": [],
   "source": [
    "data.drop(columns=['Fatalities'],inplace=True)"
   ]
  },
  {
   "cell_type": "code",
   "execution_count": 71,
   "metadata": {},
   "outputs": [],
   "source": [
    "data['FlightPhase'].fillna('Unknown',inplace=True)"
   ]
  },
  {
   "cell_type": "code",
   "execution_count": 72,
   "metadata": {},
   "outputs": [
    {
     "data": {
      "text/plain": [
       "0"
      ]
     },
     "execution_count": 72,
     "metadata": {},
     "output_type": "execute_result"
    }
   ],
   "source": [
    "data['FlightPhase'].isnull().sum()"
   ]
  },
  {
   "cell_type": "code",
   "execution_count": 73,
   "metadata": {},
   "outputs": [
    {
     "data": {
      "text/plain": [
       "Landing     461\n",
       "Unknown     285\n",
       "En route    199\n",
       "Taxi        156\n",
       "Take-off    155\n",
       "Name: FlightPhase, dtype: int64"
      ]
     },
     "execution_count": 73,
     "metadata": {},
     "output_type": "execute_result"
    }
   ],
   "source": [
    "data['FlightPhase'].value_counts().head()"
   ]
  },
  {
   "cell_type": "code",
   "execution_count": 74,
   "metadata": {},
   "outputs": [],
   "source": [
    "from sklearn.preprocessing import LabelEncoder\n",
    "from sklearn.model_selection import train_test_split\n",
    "from sklearn.linear_model import LogisticRegression\n",
    "from sklearn.tree import DecisionTreeClassifier\n",
    "from sklearn.preprocessing import StandardScaler\n",
    "from sklearn.metrics import confusion_matrix"
   ]
  },
  {
   "cell_type": "code",
   "execution_count": 77,
   "metadata": {},
   "outputs": [
    {
     "data": {
      "text/html": [
       "<style>#sk-container-id-2 {color: black;background-color: white;}#sk-container-id-2 pre{padding: 0;}#sk-container-id-2 div.sk-toggleable {background-color: white;}#sk-container-id-2 label.sk-toggleable__label {cursor: pointer;display: block;width: 100%;margin-bottom: 0;padding: 0.3em;box-sizing: border-box;text-align: center;}#sk-container-id-2 label.sk-toggleable__label-arrow:before {content: \"▸\";float: left;margin-right: 0.25em;color: #696969;}#sk-container-id-2 label.sk-toggleable__label-arrow:hover:before {color: black;}#sk-container-id-2 div.sk-estimator:hover label.sk-toggleable__label-arrow:before {color: black;}#sk-container-id-2 div.sk-toggleable__content {max-height: 0;max-width: 0;overflow: hidden;text-align: left;background-color: #f0f8ff;}#sk-container-id-2 div.sk-toggleable__content pre {margin: 0.2em;color: black;border-radius: 0.25em;background-color: #f0f8ff;}#sk-container-id-2 input.sk-toggleable__control:checked~div.sk-toggleable__content {max-height: 200px;max-width: 100%;overflow: auto;}#sk-container-id-2 input.sk-toggleable__control:checked~label.sk-toggleable__label-arrow:before {content: \"▾\";}#sk-container-id-2 div.sk-estimator input.sk-toggleable__control:checked~label.sk-toggleable__label {background-color: #d4ebff;}#sk-container-id-2 div.sk-label input.sk-toggleable__control:checked~label.sk-toggleable__label {background-color: #d4ebff;}#sk-container-id-2 input.sk-hidden--visually {border: 0;clip: rect(1px 1px 1px 1px);clip: rect(1px, 1px, 1px, 1px);height: 1px;margin: -1px;overflow: hidden;padding: 0;position: absolute;width: 1px;}#sk-container-id-2 div.sk-estimator {font-family: monospace;background-color: #f0f8ff;border: 1px dotted black;border-radius: 0.25em;box-sizing: border-box;margin-bottom: 0.5em;}#sk-container-id-2 div.sk-estimator:hover {background-color: #d4ebff;}#sk-container-id-2 div.sk-parallel-item::after {content: \"\";width: 100%;border-bottom: 1px solid gray;flex-grow: 1;}#sk-container-id-2 div.sk-label:hover label.sk-toggleable__label {background-color: #d4ebff;}#sk-container-id-2 div.sk-serial::before {content: \"\";position: absolute;border-left: 1px solid gray;box-sizing: border-box;top: 0;bottom: 0;left: 50%;z-index: 0;}#sk-container-id-2 div.sk-serial {display: flex;flex-direction: column;align-items: center;background-color: white;padding-right: 0.2em;padding-left: 0.2em;position: relative;}#sk-container-id-2 div.sk-item {position: relative;z-index: 1;}#sk-container-id-2 div.sk-parallel {display: flex;align-items: stretch;justify-content: center;background-color: white;position: relative;}#sk-container-id-2 div.sk-item::before, #sk-container-id-2 div.sk-parallel-item::before {content: \"\";position: absolute;border-left: 1px solid gray;box-sizing: border-box;top: 0;bottom: 0;left: 50%;z-index: -1;}#sk-container-id-2 div.sk-parallel-item {display: flex;flex-direction: column;z-index: 1;position: relative;background-color: white;}#sk-container-id-2 div.sk-parallel-item:first-child::after {align-self: flex-end;width: 50%;}#sk-container-id-2 div.sk-parallel-item:last-child::after {align-self: flex-start;width: 50%;}#sk-container-id-2 div.sk-parallel-item:only-child::after {width: 0;}#sk-container-id-2 div.sk-dashed-wrapped {border: 1px dashed gray;margin: 0 0.4em 0.5em 0.4em;box-sizing: border-box;padding-bottom: 0.4em;background-color: white;}#sk-container-id-2 div.sk-label label {font-family: monospace;font-weight: bold;display: inline-block;line-height: 1.2em;}#sk-container-id-2 div.sk-label-container {text-align: center;}#sk-container-id-2 div.sk-container {/* jupyter's `normalize.less` sets `[hidden] { display: none; }` but bootstrap.min.css set `[hidden] { display: none !important; }` so we also need the `!important` here to be able to override the default hidden behavior on the sphinx rendered scikit-learn.org. See: https://github.com/scikit-learn/scikit-learn/issues/21755 */display: inline-block !important;position: relative;}#sk-container-id-2 div.sk-text-repr-fallback {display: none;}</style><div id=\"sk-container-id-2\" class=\"sk-top-container\"><div class=\"sk-text-repr-fallback\"><pre>LabelEncoder()</pre><b>In a Jupyter environment, please rerun this cell to show the HTML representation or trust the notebook. <br />On GitHub, the HTML representation is unable to render, please try loading this page with nbviewer.org.</b></div><div class=\"sk-container\" hidden><div class=\"sk-item\"><div class=\"sk-estimator sk-toggleable\"><input class=\"sk-toggleable__control sk-hidden--visually\" id=\"sk-estimator-id-2\" type=\"checkbox\" checked><label for=\"sk-estimator-id-2\" class=\"sk-toggleable__label sk-toggleable__label-arrow\">LabelEncoder</label><div class=\"sk-toggleable__content\"><pre>LabelEncoder()</pre></div></div></div></div></div>"
      ],
      "text/plain": [
       "LabelEncoder()"
      ]
     },
     "execution_count": 77,
     "metadata": {},
     "output_type": "execute_result"
    }
   ],
   "source": [
    "#apply label encoder to convert flight phase column to numerics \n",
    "labencoder=LabelEncoder()\n",
    "labencoder.fit(data['FlightPhase'])"
   ]
  },
  {
   "cell_type": "code",
   "execution_count": 78,
   "metadata": {},
   "outputs": [],
   "source": [
    "data['FlightPhase']=labencoder.fit_transform(data['FlightPhase'])"
   ]
  },
  {
   "cell_type": "code",
   "execution_count": 79,
   "metadata": {},
   "outputs": [
    {
     "data": {
      "text/plain": [
       "array(['Approach', 'En route', 'Initial Climb', 'Landing', 'Manoeuvring',\n",
       "       'Standing', 'Take-off', 'Taxi', 'Unknown'], dtype=object)"
      ]
     },
     "execution_count": 79,
     "metadata": {},
     "output_type": "execute_result"
    }
   ],
   "source": [
    "labencoder.classes_"
   ]
  },
  {
   "cell_type": "code",
   "execution_count": 80,
   "metadata": {},
   "outputs": [
    {
     "data": {
      "text/html": [
       "<style>#sk-container-id-3 {color: black;background-color: white;}#sk-container-id-3 pre{padding: 0;}#sk-container-id-3 div.sk-toggleable {background-color: white;}#sk-container-id-3 label.sk-toggleable__label {cursor: pointer;display: block;width: 100%;margin-bottom: 0;padding: 0.3em;box-sizing: border-box;text-align: center;}#sk-container-id-3 label.sk-toggleable__label-arrow:before {content: \"▸\";float: left;margin-right: 0.25em;color: #696969;}#sk-container-id-3 label.sk-toggleable__label-arrow:hover:before {color: black;}#sk-container-id-3 div.sk-estimator:hover label.sk-toggleable__label-arrow:before {color: black;}#sk-container-id-3 div.sk-toggleable__content {max-height: 0;max-width: 0;overflow: hidden;text-align: left;background-color: #f0f8ff;}#sk-container-id-3 div.sk-toggleable__content pre {margin: 0.2em;color: black;border-radius: 0.25em;background-color: #f0f8ff;}#sk-container-id-3 input.sk-toggleable__control:checked~div.sk-toggleable__content {max-height: 200px;max-width: 100%;overflow: auto;}#sk-container-id-3 input.sk-toggleable__control:checked~label.sk-toggleable__label-arrow:before {content: \"▾\";}#sk-container-id-3 div.sk-estimator input.sk-toggleable__control:checked~label.sk-toggleable__label {background-color: #d4ebff;}#sk-container-id-3 div.sk-label input.sk-toggleable__control:checked~label.sk-toggleable__label {background-color: #d4ebff;}#sk-container-id-3 input.sk-hidden--visually {border: 0;clip: rect(1px 1px 1px 1px);clip: rect(1px, 1px, 1px, 1px);height: 1px;margin: -1px;overflow: hidden;padding: 0;position: absolute;width: 1px;}#sk-container-id-3 div.sk-estimator {font-family: monospace;background-color: #f0f8ff;border: 1px dotted black;border-radius: 0.25em;box-sizing: border-box;margin-bottom: 0.5em;}#sk-container-id-3 div.sk-estimator:hover {background-color: #d4ebff;}#sk-container-id-3 div.sk-parallel-item::after {content: \"\";width: 100%;border-bottom: 1px solid gray;flex-grow: 1;}#sk-container-id-3 div.sk-label:hover label.sk-toggleable__label {background-color: #d4ebff;}#sk-container-id-3 div.sk-serial::before {content: \"\";position: absolute;border-left: 1px solid gray;box-sizing: border-box;top: 0;bottom: 0;left: 50%;z-index: 0;}#sk-container-id-3 div.sk-serial {display: flex;flex-direction: column;align-items: center;background-color: white;padding-right: 0.2em;padding-left: 0.2em;position: relative;}#sk-container-id-3 div.sk-item {position: relative;z-index: 1;}#sk-container-id-3 div.sk-parallel {display: flex;align-items: stretch;justify-content: center;background-color: white;position: relative;}#sk-container-id-3 div.sk-item::before, #sk-container-id-3 div.sk-parallel-item::before {content: \"\";position: absolute;border-left: 1px solid gray;box-sizing: border-box;top: 0;bottom: 0;left: 50%;z-index: -1;}#sk-container-id-3 div.sk-parallel-item {display: flex;flex-direction: column;z-index: 1;position: relative;background-color: white;}#sk-container-id-3 div.sk-parallel-item:first-child::after {align-self: flex-end;width: 50%;}#sk-container-id-3 div.sk-parallel-item:last-child::after {align-self: flex-start;width: 50%;}#sk-container-id-3 div.sk-parallel-item:only-child::after {width: 0;}#sk-container-id-3 div.sk-dashed-wrapped {border: 1px dashed gray;margin: 0 0.4em 0.5em 0.4em;box-sizing: border-box;padding-bottom: 0.4em;background-color: white;}#sk-container-id-3 div.sk-label label {font-family: monospace;font-weight: bold;display: inline-block;line-height: 1.2em;}#sk-container-id-3 div.sk-label-container {text-align: center;}#sk-container-id-3 div.sk-container {/* jupyter's `normalize.less` sets `[hidden] { display: none; }` but bootstrap.min.css set `[hidden] { display: none !important; }` so we also need the `!important` here to be able to override the default hidden behavior on the sphinx rendered scikit-learn.org. See: https://github.com/scikit-learn/scikit-learn/issues/21755 */display: inline-block !important;position: relative;}#sk-container-id-3 div.sk-text-repr-fallback {display: none;}</style><div id=\"sk-container-id-3\" class=\"sk-top-container\"><div class=\"sk-text-repr-fallback\"><pre>LabelEncoder()</pre><b>In a Jupyter environment, please rerun this cell to show the HTML representation or trust the notebook. <br />On GitHub, the HTML representation is unable to render, please try loading this page with nbviewer.org.</b></div><div class=\"sk-container\" hidden><div class=\"sk-item\"><div class=\"sk-estimator sk-toggleable\"><input class=\"sk-toggleable__control sk-hidden--visually\" id=\"sk-estimator-id-3\" type=\"checkbox\" checked><label for=\"sk-estimator-id-3\" class=\"sk-toggleable__label sk-toggleable__label-arrow\">LabelEncoder</label><div class=\"sk-toggleable__content\"><pre>LabelEncoder()</pre></div></div></div></div></div>"
      ],
      "text/plain": [
       "LabelEncoder()"
      ]
     },
     "execution_count": 80,
     "metadata": {},
     "output_type": "execute_result"
    }
   ],
   "source": [
    "labencoder=LabelEncoder()\n",
    "labencoder.fit(data['Risk'])"
   ]
  },
  {
   "cell_type": "code",
   "execution_count": 81,
   "metadata": {},
   "outputs": [],
   "source": [
    "data['Risk']=labencoder.fit_transform(data['Risk'])"
   ]
  },
  {
   "cell_type": "code",
   "execution_count": 82,
   "metadata": {},
   "outputs": [],
   "source": [
    "col=['Year','FlightPhase','Risk','Serious/Fatal','acc/1MillionFlights']"
   ]
  },
  {
   "cell_type": "code",
   "execution_count": 83,
   "metadata": {},
   "outputs": [],
   "source": [
    "data= data.loc[:,col]"
   ]
  },
  {
   "cell_type": "code",
   "execution_count": 84,
   "metadata": {},
   "outputs": [
    {
     "name": "stdout",
     "output_type": "stream",
     "text": [
      "<class 'pandas.core.frame.DataFrame'>\n",
      "Int64Index: 1507 entries, 0 to 6108\n",
      "Data columns (total 5 columns):\n",
      " #   Column               Non-Null Count  Dtype  \n",
      "---  ------               --------------  -----  \n",
      " 0   Year                 1507 non-null   int64  \n",
      " 1   FlightPhase          1507 non-null   int32  \n",
      " 2   Risk                 1507 non-null   int32  \n",
      " 3   Serious/Fatal        1507 non-null   int64  \n",
      " 4   acc/1MillionFlights  1507 non-null   float64\n",
      "dtypes: float64(1), int32(2), int64(2)\n",
      "memory usage: 58.9 KB\n"
     ]
    }
   ],
   "source": [
    "data.info()"
   ]
  },
  {
   "cell_type": "code",
   "execution_count": 85,
   "metadata": {},
   "outputs": [
    {
     "data": {
      "text/plain": [
       "Year                   0\n",
       "FlightPhase            0\n",
       "Risk                   0\n",
       "Serious/Fatal          0\n",
       "acc/1MillionFlights    0\n",
       "dtype: int64"
      ]
     },
     "execution_count": 85,
     "metadata": {},
     "output_type": "execute_result"
    }
   ],
   "source": [
    "#check if there is null\n",
    "data.isnull().sum()"
   ]
  },
  {
   "cell_type": "markdown",
   "metadata": {},
   "source": [
    "MODELLING\n"
   ]
  },
  {
   "cell_type": "code",
   "execution_count": 86,
   "metadata": {},
   "outputs": [],
   "source": [
    "#Create X and Y\n",
    "x=data.drop(columns=['Serious/Fatal'])\n",
    "y=data['Serious/Fatal']\n"
   ]
  },
  {
   "cell_type": "code",
   "execution_count": 87,
   "metadata": {},
   "outputs": [],
   "source": [
    "#split train-test variables\n",
    "x_train,x_test,y_train,y_test=train_test_split(x,y,test_size=0.2,random_state=42)"
   ]
  },
  {
   "cell_type": "code",
   "execution_count": 88,
   "metadata": {},
   "outputs": [
    {
     "data": {
      "text/plain": [
       "(1205, 4)"
      ]
     },
     "execution_count": 88,
     "metadata": {},
     "output_type": "execute_result"
    }
   ],
   "source": [
    "#check X_train\n",
    "x_train.shape"
   ]
  },
  {
   "cell_type": "code",
   "execution_count": 89,
   "metadata": {},
   "outputs": [
    {
     "data": {
      "text/plain": [
       "(1205,)"
      ]
     },
     "execution_count": 89,
     "metadata": {},
     "output_type": "execute_result"
    }
   ],
   "source": [
    "#check Y_train\n",
    "y_train.shape"
   ]
  },
  {
   "cell_type": "code",
   "execution_count": 90,
   "metadata": {},
   "outputs": [
    {
     "data": {
      "text/html": [
       "<div>\n",
       "<style scoped>\n",
       "    .dataframe tbody tr th:only-of-type {\n",
       "        vertical-align: middle;\n",
       "    }\n",
       "\n",
       "    .dataframe tbody tr th {\n",
       "        vertical-align: top;\n",
       "    }\n",
       "\n",
       "    .dataframe thead th {\n",
       "        text-align: right;\n",
       "    }\n",
       "</style>\n",
       "<table border=\"1\" class=\"dataframe\">\n",
       "  <thead>\n",
       "    <tr style=\"text-align: right;\">\n",
       "      <th></th>\n",
       "      <th>Year</th>\n",
       "      <th>FlightPhase</th>\n",
       "      <th>Risk</th>\n",
       "      <th>acc/1MillionFlights</th>\n",
       "    </tr>\n",
       "  </thead>\n",
       "  <tbody>\n",
       "    <tr>\n",
       "      <th>3071</th>\n",
       "      <td>2012</td>\n",
       "      <td>1</td>\n",
       "      <td>31</td>\n",
       "      <td>2.63</td>\n",
       "    </tr>\n",
       "    <tr>\n",
       "      <th>4032</th>\n",
       "      <td>2015</td>\n",
       "      <td>7</td>\n",
       "      <td>30</td>\n",
       "      <td>0.29</td>\n",
       "    </tr>\n",
       "    <tr>\n",
       "      <th>3083</th>\n",
       "      <td>2012</td>\n",
       "      <td>4</td>\n",
       "      <td>30</td>\n",
       "      <td>2.63</td>\n",
       "    </tr>\n",
       "    <tr>\n",
       "      <th>4087</th>\n",
       "      <td>2015</td>\n",
       "      <td>7</td>\n",
       "      <td>6</td>\n",
       "      <td>0.29</td>\n",
       "    </tr>\n",
       "    <tr>\n",
       "      <th>4891</th>\n",
       "      <td>2017</td>\n",
       "      <td>1</td>\n",
       "      <td>30</td>\n",
       "      <td>2.64</td>\n",
       "    </tr>\n",
       "  </tbody>\n",
       "</table>\n",
       "</div>"
      ],
      "text/plain": [
       "      Year  FlightPhase  Risk  acc/1MillionFlights\n",
       "3071  2012            1    31                 2.63\n",
       "4032  2015            7    30                 0.29\n",
       "3083  2012            4    30                 2.63\n",
       "4087  2015            7     6                 0.29\n",
       "4891  2017            1    30                 2.64"
      ]
     },
     "execution_count": 90,
     "metadata": {},
     "output_type": "execute_result"
    }
   ],
   "source": [
    "x_train.head()"
   ]
  },
  {
   "cell_type": "code",
   "execution_count": 91,
   "metadata": {},
   "outputs": [
    {
     "data": {
      "text/plain": [
       "3071    0\n",
       "4032    0\n",
       "3083    0\n",
       "4087    0\n",
       "4891    0\n",
       "       ..\n",
       "4919    0\n",
       "5392    0\n",
       "3906    0\n",
       "5840    0\n",
       "4912    0\n",
       "Name: Serious/Fatal, Length: 1205, dtype: int64"
      ]
     },
     "execution_count": 91,
     "metadata": {},
     "output_type": "execute_result"
    }
   ],
   "source": [
    "y_train"
   ]
  },
  {
   "cell_type": "code",
   "execution_count": 92,
   "metadata": {},
   "outputs": [],
   "source": [
    "st_x=StandardScaler()\n",
    "x_train=st_x.fit_transform(x_train)\n",
    "x_test=st_x.fit_transform(x_test)"
   ]
  },
  {
   "cell_type": "code",
   "execution_count": 93,
   "metadata": {},
   "outputs": [
    {
     "data": {
      "text/html": [
       "<style>#sk-container-id-4 {color: black;background-color: white;}#sk-container-id-4 pre{padding: 0;}#sk-container-id-4 div.sk-toggleable {background-color: white;}#sk-container-id-4 label.sk-toggleable__label {cursor: pointer;display: block;width: 100%;margin-bottom: 0;padding: 0.3em;box-sizing: border-box;text-align: center;}#sk-container-id-4 label.sk-toggleable__label-arrow:before {content: \"▸\";float: left;margin-right: 0.25em;color: #696969;}#sk-container-id-4 label.sk-toggleable__label-arrow:hover:before {color: black;}#sk-container-id-4 div.sk-estimator:hover label.sk-toggleable__label-arrow:before {color: black;}#sk-container-id-4 div.sk-toggleable__content {max-height: 0;max-width: 0;overflow: hidden;text-align: left;background-color: #f0f8ff;}#sk-container-id-4 div.sk-toggleable__content pre {margin: 0.2em;color: black;border-radius: 0.25em;background-color: #f0f8ff;}#sk-container-id-4 input.sk-toggleable__control:checked~div.sk-toggleable__content {max-height: 200px;max-width: 100%;overflow: auto;}#sk-container-id-4 input.sk-toggleable__control:checked~label.sk-toggleable__label-arrow:before {content: \"▾\";}#sk-container-id-4 div.sk-estimator input.sk-toggleable__control:checked~label.sk-toggleable__label {background-color: #d4ebff;}#sk-container-id-4 div.sk-label input.sk-toggleable__control:checked~label.sk-toggleable__label {background-color: #d4ebff;}#sk-container-id-4 input.sk-hidden--visually {border: 0;clip: rect(1px 1px 1px 1px);clip: rect(1px, 1px, 1px, 1px);height: 1px;margin: -1px;overflow: hidden;padding: 0;position: absolute;width: 1px;}#sk-container-id-4 div.sk-estimator {font-family: monospace;background-color: #f0f8ff;border: 1px dotted black;border-radius: 0.25em;box-sizing: border-box;margin-bottom: 0.5em;}#sk-container-id-4 div.sk-estimator:hover {background-color: #d4ebff;}#sk-container-id-4 div.sk-parallel-item::after {content: \"\";width: 100%;border-bottom: 1px solid gray;flex-grow: 1;}#sk-container-id-4 div.sk-label:hover label.sk-toggleable__label {background-color: #d4ebff;}#sk-container-id-4 div.sk-serial::before {content: \"\";position: absolute;border-left: 1px solid gray;box-sizing: border-box;top: 0;bottom: 0;left: 50%;z-index: 0;}#sk-container-id-4 div.sk-serial {display: flex;flex-direction: column;align-items: center;background-color: white;padding-right: 0.2em;padding-left: 0.2em;position: relative;}#sk-container-id-4 div.sk-item {position: relative;z-index: 1;}#sk-container-id-4 div.sk-parallel {display: flex;align-items: stretch;justify-content: center;background-color: white;position: relative;}#sk-container-id-4 div.sk-item::before, #sk-container-id-4 div.sk-parallel-item::before {content: \"\";position: absolute;border-left: 1px solid gray;box-sizing: border-box;top: 0;bottom: 0;left: 50%;z-index: -1;}#sk-container-id-4 div.sk-parallel-item {display: flex;flex-direction: column;z-index: 1;position: relative;background-color: white;}#sk-container-id-4 div.sk-parallel-item:first-child::after {align-self: flex-end;width: 50%;}#sk-container-id-4 div.sk-parallel-item:last-child::after {align-self: flex-start;width: 50%;}#sk-container-id-4 div.sk-parallel-item:only-child::after {width: 0;}#sk-container-id-4 div.sk-dashed-wrapped {border: 1px dashed gray;margin: 0 0.4em 0.5em 0.4em;box-sizing: border-box;padding-bottom: 0.4em;background-color: white;}#sk-container-id-4 div.sk-label label {font-family: monospace;font-weight: bold;display: inline-block;line-height: 1.2em;}#sk-container-id-4 div.sk-label-container {text-align: center;}#sk-container-id-4 div.sk-container {/* jupyter's `normalize.less` sets `[hidden] { display: none; }` but bootstrap.min.css set `[hidden] { display: none !important; }` so we also need the `!important` here to be able to override the default hidden behavior on the sphinx rendered scikit-learn.org. See: https://github.com/scikit-learn/scikit-learn/issues/21755 */display: inline-block !important;position: relative;}#sk-container-id-4 div.sk-text-repr-fallback {display: none;}</style><div id=\"sk-container-id-4\" class=\"sk-top-container\"><div class=\"sk-text-repr-fallback\"><pre>LogisticRegression(random_state=0)</pre><b>In a Jupyter environment, please rerun this cell to show the HTML representation or trust the notebook. <br />On GitHub, the HTML representation is unable to render, please try loading this page with nbviewer.org.</b></div><div class=\"sk-container\" hidden><div class=\"sk-item\"><div class=\"sk-estimator sk-toggleable\"><input class=\"sk-toggleable__control sk-hidden--visually\" id=\"sk-estimator-id-4\" type=\"checkbox\" checked><label for=\"sk-estimator-id-4\" class=\"sk-toggleable__label sk-toggleable__label-arrow\">LogisticRegression</label><div class=\"sk-toggleable__content\"><pre>LogisticRegression(random_state=0)</pre></div></div></div></div></div>"
      ],
      "text/plain": [
       "LogisticRegression(random_state=0)"
      ]
     },
     "execution_count": 93,
     "metadata": {},
     "output_type": "execute_result"
    }
   ],
   "source": [
    "classifier=LogisticRegression(random_state=0)\n",
    "classifier.fit(x_train,y_train)"
   ]
  },
  {
   "cell_type": "code",
   "execution_count": 94,
   "metadata": {},
   "outputs": [],
   "source": [
    "y_pred=classifier.predict(x_test)"
   ]
  },
  {
   "cell_type": "code",
   "execution_count": 95,
   "metadata": {},
   "outputs": [
    {
     "name": "stdout",
     "output_type": "stream",
     "text": [
      "0.7858921161825726\n"
     ]
    }
   ],
   "source": [
    "print(classifier.score(x_train,y_train))"
   ]
  },
  {
   "cell_type": "code",
   "execution_count": 96,
   "metadata": {},
   "outputs": [
    {
     "name": "stdout",
     "output_type": "stream",
     "text": [
      "0.7748344370860927\n"
     ]
    }
   ],
   "source": [
    "print(classifier.score(x_test,y_test))"
   ]
  },
  {
   "cell_type": "code",
   "execution_count": 97,
   "metadata": {},
   "outputs": [
    {
     "name": "stdout",
     "output_type": "stream",
     "text": [
      "1.0\n"
     ]
    }
   ],
   "source": [
    "print(classifier.score(x_test,y_pred))"
   ]
  },
  {
   "cell_type": "code",
   "execution_count": 98,
   "metadata": {},
   "outputs": [],
   "source": [
    "cm=confusion_matrix(y_test,y_pred)"
   ]
  },
  {
   "cell_type": "code",
   "execution_count": 99,
   "metadata": {},
   "outputs": [
    {
     "name": "stdout",
     "output_type": "stream",
     "text": [
      "[[209  10]\n",
      " [ 58  25]]\n"
     ]
    }
   ],
   "source": [
    "print(cm)"
   ]
  },
  {
   "cell_type": "code",
   "execution_count": 100,
   "metadata": {},
   "outputs": [
    {
     "data": {
      "text/html": [
       "<style>#sk-container-id-5 {color: black;background-color: white;}#sk-container-id-5 pre{padding: 0;}#sk-container-id-5 div.sk-toggleable {background-color: white;}#sk-container-id-5 label.sk-toggleable__label {cursor: pointer;display: block;width: 100%;margin-bottom: 0;padding: 0.3em;box-sizing: border-box;text-align: center;}#sk-container-id-5 label.sk-toggleable__label-arrow:before {content: \"▸\";float: left;margin-right: 0.25em;color: #696969;}#sk-container-id-5 label.sk-toggleable__label-arrow:hover:before {color: black;}#sk-container-id-5 div.sk-estimator:hover label.sk-toggleable__label-arrow:before {color: black;}#sk-container-id-5 div.sk-toggleable__content {max-height: 0;max-width: 0;overflow: hidden;text-align: left;background-color: #f0f8ff;}#sk-container-id-5 div.sk-toggleable__content pre {margin: 0.2em;color: black;border-radius: 0.25em;background-color: #f0f8ff;}#sk-container-id-5 input.sk-toggleable__control:checked~div.sk-toggleable__content {max-height: 200px;max-width: 100%;overflow: auto;}#sk-container-id-5 input.sk-toggleable__control:checked~label.sk-toggleable__label-arrow:before {content: \"▾\";}#sk-container-id-5 div.sk-estimator input.sk-toggleable__control:checked~label.sk-toggleable__label {background-color: #d4ebff;}#sk-container-id-5 div.sk-label input.sk-toggleable__control:checked~label.sk-toggleable__label {background-color: #d4ebff;}#sk-container-id-5 input.sk-hidden--visually {border: 0;clip: rect(1px 1px 1px 1px);clip: rect(1px, 1px, 1px, 1px);height: 1px;margin: -1px;overflow: hidden;padding: 0;position: absolute;width: 1px;}#sk-container-id-5 div.sk-estimator {font-family: monospace;background-color: #f0f8ff;border: 1px dotted black;border-radius: 0.25em;box-sizing: border-box;margin-bottom: 0.5em;}#sk-container-id-5 div.sk-estimator:hover {background-color: #d4ebff;}#sk-container-id-5 div.sk-parallel-item::after {content: \"\";width: 100%;border-bottom: 1px solid gray;flex-grow: 1;}#sk-container-id-5 div.sk-label:hover label.sk-toggleable__label {background-color: #d4ebff;}#sk-container-id-5 div.sk-serial::before {content: \"\";position: absolute;border-left: 1px solid gray;box-sizing: border-box;top: 0;bottom: 0;left: 50%;z-index: 0;}#sk-container-id-5 div.sk-serial {display: flex;flex-direction: column;align-items: center;background-color: white;padding-right: 0.2em;padding-left: 0.2em;position: relative;}#sk-container-id-5 div.sk-item {position: relative;z-index: 1;}#sk-container-id-5 div.sk-parallel {display: flex;align-items: stretch;justify-content: center;background-color: white;position: relative;}#sk-container-id-5 div.sk-item::before, #sk-container-id-5 div.sk-parallel-item::before {content: \"\";position: absolute;border-left: 1px solid gray;box-sizing: border-box;top: 0;bottom: 0;left: 50%;z-index: -1;}#sk-container-id-5 div.sk-parallel-item {display: flex;flex-direction: column;z-index: 1;position: relative;background-color: white;}#sk-container-id-5 div.sk-parallel-item:first-child::after {align-self: flex-end;width: 50%;}#sk-container-id-5 div.sk-parallel-item:last-child::after {align-self: flex-start;width: 50%;}#sk-container-id-5 div.sk-parallel-item:only-child::after {width: 0;}#sk-container-id-5 div.sk-dashed-wrapped {border: 1px dashed gray;margin: 0 0.4em 0.5em 0.4em;box-sizing: border-box;padding-bottom: 0.4em;background-color: white;}#sk-container-id-5 div.sk-label label {font-family: monospace;font-weight: bold;display: inline-block;line-height: 1.2em;}#sk-container-id-5 div.sk-label-container {text-align: center;}#sk-container-id-5 div.sk-container {/* jupyter's `normalize.less` sets `[hidden] { display: none; }` but bootstrap.min.css set `[hidden] { display: none !important; }` so we also need the `!important` here to be able to override the default hidden behavior on the sphinx rendered scikit-learn.org. See: https://github.com/scikit-learn/scikit-learn/issues/21755 */display: inline-block !important;position: relative;}#sk-container-id-5 div.sk-text-repr-fallback {display: none;}</style><div id=\"sk-container-id-5\" class=\"sk-top-container\"><div class=\"sk-text-repr-fallback\"><pre>DecisionTreeClassifier(criterion=&#x27;entropy&#x27;, random_state=0)</pre><b>In a Jupyter environment, please rerun this cell to show the HTML representation or trust the notebook. <br />On GitHub, the HTML representation is unable to render, please try loading this page with nbviewer.org.</b></div><div class=\"sk-container\" hidden><div class=\"sk-item\"><div class=\"sk-estimator sk-toggleable\"><input class=\"sk-toggleable__control sk-hidden--visually\" id=\"sk-estimator-id-5\" type=\"checkbox\" checked><label for=\"sk-estimator-id-5\" class=\"sk-toggleable__label sk-toggleable__label-arrow\">DecisionTreeClassifier</label><div class=\"sk-toggleable__content\"><pre>DecisionTreeClassifier(criterion=&#x27;entropy&#x27;, random_state=0)</pre></div></div></div></div></div>"
      ],
      "text/plain": [
       "DecisionTreeClassifier(criterion='entropy', random_state=0)"
      ]
     },
     "execution_count": 100,
     "metadata": {},
     "output_type": "execute_result"
    }
   ],
   "source": [
    "classifier_dt=DecisionTreeClassifier(criterion='entropy',random_state=0)\n",
    "classifier_dt.fit(x_train,y_train)"
   ]
  },
  {
   "cell_type": "code",
   "execution_count": 101,
   "metadata": {},
   "outputs": [],
   "source": [
    "y_pred=classifier_dt.predict(x_test)"
   ]
  },
  {
   "cell_type": "code",
   "execution_count": 102,
   "metadata": {},
   "outputs": [
    {
     "name": "stdout",
     "output_type": "stream",
     "text": [
      "0.9236514522821577\n"
     ]
    }
   ],
   "source": [
    "print(classifier_dt.score(x_train,y_train))"
   ]
  },
  {
   "cell_type": "code",
   "execution_count": 103,
   "metadata": {},
   "outputs": [
    {
     "name": "stdout",
     "output_type": "stream",
     "text": [
      "0.8509933774834437\n"
     ]
    }
   ],
   "source": [
    "print(classifier_dt.score(x_test,y_test))"
   ]
  },
  {
   "cell_type": "code",
   "execution_count": 104,
   "metadata": {},
   "outputs": [
    {
     "name": "stdout",
     "output_type": "stream",
     "text": [
      "1.0\n"
     ]
    }
   ],
   "source": [
    "print(classifier_dt.score(x_test,y_pred))"
   ]
  },
  {
   "cell_type": "code",
   "execution_count": 105,
   "metadata": {},
   "outputs": [],
   "source": [
    "cm=confusion_matrix(y_test,y_pred)"
   ]
  },
  {
   "cell_type": "code",
   "execution_count": 106,
   "metadata": {},
   "outputs": [
    {
     "name": "stdout",
     "output_type": "stream",
     "text": [
      "[[204  15]\n",
      " [ 30  53]]\n"
     ]
    }
   ],
   "source": [
    "print(cm)"
   ]
  },
  {
   "cell_type": "code",
   "execution_count": null,
   "metadata": {},
   "outputs": [],
   "source": []
  }
 ],
 "metadata": {
  "kernelspec": {
   "display_name": "Python 3 (ipykernel)",
   "language": "python",
   "name": "python3"
  },
  "language_info": {
   "codemirror_mode": {
    "name": "ipython",
    "version": 3
   },
   "file_extension": ".py",
   "mimetype": "text/x-python",
   "name": "python",
   "nbconvert_exporter": "python",
   "pygments_lexer": "ipython3",
   "version": "3.10.6"
  },
  "vscode": {
   "interpreter": {
    "hash": "a03b5182ac465f3a9ced9e532c8bf4cce4c5aeabc8b1f32cda68b21743bf63d2"
   }
  }
 },
 "nbformat": 4,
 "nbformat_minor": 2
}
